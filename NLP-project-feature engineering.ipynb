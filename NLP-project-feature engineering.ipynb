{
 "cells": [
  {
   "cell_type": "code",
   "execution_count": 95,
   "metadata": {},
   "outputs": [],
   "source": [
    "import numpy as np\n",
    "import pandas as pd\n",
    "import matplotlib.pyplot as plt\n",
    "\n",
    "import nltk\n",
    "from sklearn.metrics import f1_score\n",
    "from sklearn.svm import SVC, LinearSVC\n",
    "from sklearn.ensemble import RandomForestClassifier\n",
    "from sklearn.model_selection import train_test_split\n",
    "from sklearn.feature_extraction.text import CountVectorizer\n",
    "from sklearn.decomposition import TruncatedSVD\n",
    "from sklearn.feature_extraction.text import TfidfVectorizer\n",
    "from imblearn.over_sampling import BorderlineSMOTE\n",
    "from sklearn import svm\n",
    "\n",
    "from scipy import stats\n",
    "from sklearn.model_selection import GridSearchCV\n",
    "import seaborn as sns\n",
    "from sklearn.pipeline import Pipeline\n",
    "\n",
    "from collections import Counter\n",
    "from nltk.data import load\n",
    "from collections import deque\n",
    "\n",
    "%matplotlib inline"
   ]
  },
  {
   "cell_type": "code",
   "execution_count": 2,
   "metadata": {},
   "outputs": [],
   "source": [
    "combined = pd.read_csv('./wordBag.csv', sep = '\\t')\n",
    "data = combined.drop_duplicates(['lyrics'])"
   ]
  },
  {
   "cell_type": "code",
   "execution_count": 3,
   "metadata": {},
   "outputs": [],
   "source": [
    "class popularityModel(object):\n",
    "    \"\"\"\n",
    "    basically is returning the Mode\n",
    "    \"\"\"\n",
    "    def __init__(self):\n",
    "        self.mode = None\n",
    "        return \n",
    "    \n",
    "    def fit(self, X, y):\n",
    "        \"\"\"\n",
    "        X: (number of examples k, number of features d.) nd array.\n",
    "        y: (number of examples, ) nd array, or panda.series.\n",
    "        \"\"\"\n",
    "        if X.shape[0] != y.shape[0]:\n",
    "            print(\"error, dim not match\")\n",
    "            return\n",
    "        self.mode = stats.mode(y.values, nan_policy='omit')[0][0]\n",
    "        \n",
    "    def predict(self, X):\n",
    "        \"\"\"\n",
    "        X: (number of examples k_1, number of features d.) nd array.\n",
    "        \"\"\"\n",
    "        if self.mode == None:\n",
    "            print(\"Please fit the model first.\")\n",
    "            return\n",
    "        \n",
    "        return np.array([self.mode] * X.shape[0])\n",
    "        \n",
    "    "
   ]
  },
  {
   "cell_type": "code",
   "execution_count": 4,
   "metadata": {},
   "outputs": [],
   "source": [
    "artist_10 = data.artist.value_counts()[:10]\n",
    "data_10 = data[data.artist.isin(artist_10.index)]\n",
    "train, test = train_test_split(data_10, test_size=0.2, random_state = 124, stratify = data_10.artist)\n",
    "corpus = train['wordBag'].values.astype(str).tolist()\n",
    "corpus_test = test['wordBag'].values.astype(str).tolist()"
   ]
  },
  {
   "cell_type": "code",
   "execution_count": 6,
   "metadata": {},
   "outputs": [],
   "source": [
    "y = train.artist\n",
    "y_true = test['artist']"
   ]
  },
  {
   "cell_type": "markdown",
   "metadata": {},
   "source": [
    "# Feature engineering"
   ]
  },
  {
   "cell_type": "markdown",
   "metadata": {},
   "source": [
    "## N-gram"
   ]
  },
  {
   "cell_type": "markdown",
   "metadata": {},
   "source": [
    "### First try simply count with different range of n-grams."
   ]
  },
  {
   "cell_type": "code",
   "execution_count": 7,
   "metadata": {},
   "outputs": [
    {
     "name": "stdout",
     "output_type": "stream",
     "text": [
      "Fitting 5 folds for each of 30 candidates, totalling 150 fits\n"
     ]
    },
    {
     "name": "stderr",
     "output_type": "stream",
     "text": [
      "[Parallel(n_jobs=-1)]: Using backend LokyBackend with 8 concurrent workers.\n",
      "[Parallel(n_jobs=-1)]: Done  34 tasks      | elapsed:   51.6s\n",
      "[Parallel(n_jobs=-1)]: Done 150 out of 150 | elapsed:  3.6min finished\n",
      "/Users/shirley/anaconda3/lib/python3.7/site-packages/sklearn/svm/base.py:931: ConvergenceWarning: Liblinear failed to converge, increase the number of iterations.\n",
      "  \"the number of iterations.\", ConvergenceWarning)\n"
     ]
    },
    {
     "data": {
      "text/plain": [
       "GridSearchCV(cv=5, error_score='raise-deprecating',\n",
       "       estimator=Pipeline(memory=None,\n",
       "     steps=[('count', CountVectorizer(analyzer='word', binary=False, decode_error='strict',\n",
       "        dtype=<class 'numpy.int64'>, encoding='utf-8', input='content',\n",
       "        lowercase=True, max_df=1.0, max_features=None, min_df=1,\n",
       "        ngram_range=(1, 1), preprocessor=None, stop_words=None,\n",
       "        stri...ax_iter=1000,\n",
       "     multi_class='ovr', penalty='l2', random_state=None, tol=0.0001,\n",
       "     verbose=0))]),\n",
       "       fit_params=None, iid='warn', n_jobs=-1,\n",
       "       param_grid={'count__max_features': [300, 900, 1500, 3000, 5000, 10000], 'count__ngram_range': [(1, 1), (1, 2), (1, 3), (1, 4), (1, 5)]},\n",
       "       pre_dispatch='2*n_jobs', refit=True, return_train_score='warn',\n",
       "       scoring=None, verbose=True)"
      ]
     },
     "execution_count": 7,
     "metadata": {},
     "output_type": "execute_result"
    }
   ],
   "source": [
    "pipeline = Pipeline([\n",
    "    ('count', CountVectorizer()),\n",
    "    ('model', LinearSVC())\n",
    "])\n",
    "parameters = {'count__max_features':[300,900,1500,3000,5000,10000], 'count__ngram_range':[(1,1),(1,2),(1,3),(1,4),(1,5)]}\n",
    "\n",
    "clf_grid = GridSearchCV(pipeline, parameters, cv=5, n_jobs=-1, verbose=True)\n",
    "clf_grid.fit(corpus,y)"
   ]
  },
  {
   "cell_type": "code",
   "execution_count": 8,
   "metadata": {},
   "outputs": [
    {
     "name": "stderr",
     "output_type": "stream",
     "text": [
      "/Users/shirley/anaconda3/lib/python3.7/site-packages/sklearn/utils/deprecation.py:125: FutureWarning: You are accessing a training score ('split0_train_score'), which will not be available by default any more in 0.21. If you need training scores, please set return_train_score=True\n",
      "  warnings.warn(*warn_args, **warn_kwargs)\n",
      "/Users/shirley/anaconda3/lib/python3.7/site-packages/sklearn/utils/deprecation.py:125: FutureWarning: You are accessing a training score ('split1_train_score'), which will not be available by default any more in 0.21. If you need training scores, please set return_train_score=True\n",
      "  warnings.warn(*warn_args, **warn_kwargs)\n",
      "/Users/shirley/anaconda3/lib/python3.7/site-packages/sklearn/utils/deprecation.py:125: FutureWarning: You are accessing a training score ('split2_train_score'), which will not be available by default any more in 0.21. If you need training scores, please set return_train_score=True\n",
      "  warnings.warn(*warn_args, **warn_kwargs)\n",
      "/Users/shirley/anaconda3/lib/python3.7/site-packages/sklearn/utils/deprecation.py:125: FutureWarning: You are accessing a training score ('split3_train_score'), which will not be available by default any more in 0.21. If you need training scores, please set return_train_score=True\n",
      "  warnings.warn(*warn_args, **warn_kwargs)\n",
      "/Users/shirley/anaconda3/lib/python3.7/site-packages/sklearn/utils/deprecation.py:125: FutureWarning: You are accessing a training score ('split4_train_score'), which will not be available by default any more in 0.21. If you need training scores, please set return_train_score=True\n",
      "  warnings.warn(*warn_args, **warn_kwargs)\n",
      "/Users/shirley/anaconda3/lib/python3.7/site-packages/sklearn/utils/deprecation.py:125: FutureWarning: You are accessing a training score ('mean_train_score'), which will not be available by default any more in 0.21. If you need training scores, please set return_train_score=True\n",
      "  warnings.warn(*warn_args, **warn_kwargs)\n",
      "/Users/shirley/anaconda3/lib/python3.7/site-packages/sklearn/utils/deprecation.py:125: FutureWarning: You are accessing a training score ('std_train_score'), which will not be available by default any more in 0.21. If you need training scores, please set return_train_score=True\n",
      "  warnings.warn(*warn_args, **warn_kwargs)\n"
     ]
    }
   ],
   "source": [
    "results = pd.melt(\n",
    "pd.DataFrame(clf_grid.cv_results_),\n",
    "id_vars=['param_count__max_features', 'param_count__ngram_range'],\n",
    "value_vars=[\n",
    "'mean_test_score'\n",
    "],\n",
    "value_name='f1_scores'\n",
    ")\n",
    "\n",
    "results = results.drop(['variable'], axis=1)"
   ]
  },
  {
   "cell_type": "code",
   "execution_count": 9,
   "metadata": {},
   "outputs": [],
   "source": [
    "def plot_results(results, title,xlable,ylable, huelable):\n",
    "    f, ax = plt.subplots(figsize=(8, 5))\n",
    "    sns.lineplot(ax=ax,\n",
    "    x= xlable,\n",
    "    y= ylable,\n",
    "    hue = huelable,\n",
    "    data=results)\n",
    "    ax.set_xlabel(xlable)\n",
    "    ax.set_ylabel('mean of prediction accuracy')\n",
    "    ax.set_title(title)\n",
    "    ax.legend(loc='lower right')"
   ]
  },
  {
   "cell_type": "code",
   "execution_count": 10,
   "metadata": {},
   "outputs": [
    {
     "data": {
      "image/png": "[encoded data removed]",
      "text/plain": [
       "<Figure size 576x360 with 1 Axes>"
      ]
     },
     "metadata": {
      "needs_background": "light"
     },
     "output_type": "display_data"
    }
   ],
   "source": [
    "plot_results(results,'grid search for max_feaetures and ngram_range with count', 'param_count__max_features','f1_scores','param_count__ngram_range')"
   ]
  },
  {
   "cell_type": "code",
   "execution_count": 11,
   "metadata": {},
   "outputs": [
    {
     "data": {
      "text/plain": [
       "{'count__max_features': 10000, 'count__ngram_range': (1, 2)}"
      ]
     },
     "execution_count": 11,
     "metadata": {},
     "output_type": "execute_result"
    }
   ],
   "source": [
    "clf_grid.best_params_"
   ]
  },
  {
   "cell_type": "code",
   "execution_count": 13,
   "metadata": {},
   "outputs": [
    {
     "data": {
      "text/plain": [
       "0.43239501615136133"
      ]
     },
     "execution_count": 13,
     "metadata": {},
     "output_type": "execute_result"
    }
   ],
   "source": [
    "clf_grid.best_score_"
   ]
  },
  {
   "cell_type": "markdown",
   "metadata": {},
   "source": [
    "For simply count we got best combination is max_features = 10000, ngram range (1,2), F1 score = 0.432"
   ]
  },
  {
   "cell_type": "markdown",
   "metadata": {},
   "source": [
    "### Try tf-idf with different ngram range"
   ]
  },
  {
   "cell_type": "code",
   "execution_count": 35,
   "metadata": {},
   "outputs": [
    {
     "name": "stdout",
     "output_type": "stream",
     "text": [
      "Fitting 5 folds for each of 40 candidates, totalling 200 fits\n"
     ]
    },
    {
     "name": "stderr",
     "output_type": "stream",
     "text": [
      "[Parallel(n_jobs=-1)]: Using backend LokyBackend with 8 concurrent workers.\n",
      "/Users/shirley/anaconda3/lib/python3.7/site-packages/sklearn/externals/joblib/externals/loky/process_executor.py:706: UserWarning: A worker stopped while some jobs were given to the executor. This can be caused by a too short worker timeout or by a memory leak.\n",
      "  \"timeout or by a memory leak.\", UserWarning\n",
      "[Parallel(n_jobs=-1)]: Done  34 tasks      | elapsed:   31.8s\n",
      "/Users/shirley/anaconda3/lib/python3.7/site-packages/sklearn/externals/joblib/externals/loky/process_executor.py:706: UserWarning: A worker stopped while some jobs were given to the executor. This can be caused by a too short worker timeout or by a memory leak.\n",
      "  \"timeout or by a memory leak.\", UserWarning\n",
      "/Users/shirley/anaconda3/lib/python3.7/site-packages/sklearn/externals/joblib/externals/loky/process_executor.py:706: UserWarning: A worker stopped while some jobs were given to the executor. This can be caused by a too short worker timeout or by a memory leak.\n",
      "  \"timeout or by a memory leak.\", UserWarning\n",
      "[Parallel(n_jobs=-1)]: Done 184 tasks      | elapsed:  3.1min\n",
      "[Parallel(n_jobs=-1)]: Done 200 out of 200 | elapsed:  3.5min finished\n"
     ]
    },
    {
     "data": {
      "text/plain": [
       "GridSearchCV(cv=5, error_score='raise-deprecating',\n",
       "       estimator=Pipeline(memory=None,\n",
       "     steps=[('tfidf', TfidfVectorizer(analyzer='word', binary=False, decode_error='strict',\n",
       "        dtype=<class 'numpy.float64'>, encoding='utf-8', input='content',\n",
       "        lowercase=True, max_df=1.0, max_features=None, min_df=1,\n",
       "        ngram_range=(1, 1), norm='l2', preprocessor=None, smooth_idf=True,...ax_iter=1000,\n",
       "     multi_class='ovr', penalty='l2', random_state=None, tol=0.0001,\n",
       "     verbose=0))]),\n",
       "       fit_params=None, iid='warn', n_jobs=-1,\n",
       "       param_grid={'tfidf__max_features': [300, 500, 700, 900, 1200, 1500, 2000, 3000], 'tfidf__ngram_range': [(1, 1), (1, 2), (1, 3), (1, 4), (1, 5)]},\n",
       "       pre_dispatch='2*n_jobs', refit=True, return_train_score='warn',\n",
       "       scoring=None, verbose=True)"
      ]
     },
     "execution_count": 35,
     "metadata": {},
     "output_type": "execute_result"
    }
   ],
   "source": [
    "pipeline = Pipeline([\n",
    "    ('tfidf', TfidfVectorizer()),\n",
    "    ('model', LinearSVC())\n",
    "])\n",
    "parameters = {'tfidf__max_features':[300,500,700,900,1200,1500,2000,3000], 'tfidf__ngram_range':[(1,1),(1,2),(1,3),(1,4),(1,5)]}\n",
    "\n",
    "clf_grid = GridSearchCV(pipeline, parameters, cv=5, n_jobs=-1, verbose=True)\n",
    "clf_grid.fit(corpus,y)"
   ]
  },
  {
   "cell_type": "code",
   "execution_count": 36,
   "metadata": {},
   "outputs": [
    {
     "name": "stderr",
     "output_type": "stream",
     "text": [
      "/Users/shirley/anaconda3/lib/python3.7/site-packages/sklearn/utils/deprecation.py:125: FutureWarning: You are accessing a training score ('split0_train_score'), which will not be available by default any more in 0.21. If you need training scores, please set return_train_score=True\n",
      "  warnings.warn(*warn_args, **warn_kwargs)\n",
      "/Users/shirley/anaconda3/lib/python3.7/site-packages/sklearn/utils/deprecation.py:125: FutureWarning: You are accessing a training score ('split1_train_score'), which will not be available by default any more in 0.21. If you need training scores, please set return_train_score=True\n",
      "  warnings.warn(*warn_args, **warn_kwargs)\n",
      "/Users/shirley/anaconda3/lib/python3.7/site-packages/sklearn/utils/deprecation.py:125: FutureWarning: You are accessing a training score ('split2_train_score'), which will not be available by default any more in 0.21. If you need training scores, please set return_train_score=True\n",
      "  warnings.warn(*warn_args, **warn_kwargs)\n",
      "/Users/shirley/anaconda3/lib/python3.7/site-packages/sklearn/utils/deprecation.py:125: FutureWarning: You are accessing a training score ('split3_train_score'), which will not be available by default any more in 0.21. If you need training scores, please set return_train_score=True\n",
      "  warnings.warn(*warn_args, **warn_kwargs)\n",
      "/Users/shirley/anaconda3/lib/python3.7/site-packages/sklearn/utils/deprecation.py:125: FutureWarning: You are accessing a training score ('split4_train_score'), which will not be available by default any more in 0.21. If you need training scores, please set return_train_score=True\n",
      "  warnings.warn(*warn_args, **warn_kwargs)\n",
      "/Users/shirley/anaconda3/lib/python3.7/site-packages/sklearn/utils/deprecation.py:125: FutureWarning: You are accessing a training score ('mean_train_score'), which will not be available by default any more in 0.21. If you need training scores, please set return_train_score=True\n",
      "  warnings.warn(*warn_args, **warn_kwargs)\n",
      "/Users/shirley/anaconda3/lib/python3.7/site-packages/sklearn/utils/deprecation.py:125: FutureWarning: You are accessing a training score ('std_train_score'), which will not be available by default any more in 0.21. If you need training scores, please set return_train_score=True\n",
      "  warnings.warn(*warn_args, **warn_kwargs)\n"
     ]
    }
   ],
   "source": [
    "results = pd.melt(\n",
    "pd.DataFrame(clf_grid.cv_results_),\n",
    "id_vars=['param_tfidf__max_features', 'param_tfidf__ngram_range'],\n",
    "value_vars=[\n",
    "'mean_test_score'\n",
    "],\n",
    "value_name='f1_scores'\n",
    ")\n",
    "\n",
    "results = results.drop(['variable'], axis=1)"
   ]
  },
  {
   "cell_type": "code",
   "execution_count": 38,
   "metadata": {},
   "outputs": [],
   "source": [
    "def plot_results(results, title,xlable,ylable, huelable):\n",
    "    f, ax = plt.subplots(figsize=(8, 5))\n",
    "    sns.lineplot(ax=ax,\n",
    "    x= xlable,\n",
    "    y= ylable,\n",
    "    hue = huelable,\n",
    "    data=results)\n",
    "    ax.set_xlabel(xlable)\n",
    "    ax.set_ylabel('mean of prediction accuracy')\n",
    "    ax.set_title(title)\n",
    "    ax.legend(loc='lower right')"
   ]
  },
  {
   "cell_type": "code",
   "execution_count": 39,
   "metadata": {},
   "outputs": [
    {
     "data": {
      "image/png": "[encoded data removed]",
      "text/plain": [
       "<Figure size 576x360 with 1 Axes>"
      ]
     },
     "metadata": {
      "needs_background": "light"
     },
     "output_type": "display_data"
    }
   ],
   "source": [
    "\n",
    "plot_results(results,'grid search for max_feaetures and ngram_range', 'param_tfidf__max_features','f1_scores','param_tfidf__ngram_range')"
   ]
  },
  {
   "cell_type": "code",
   "execution_count": 18,
   "metadata": {},
   "outputs": [
    {
     "data": {
      "text/plain": [
       "{'tfidf__max_features': 3000, 'tfidf__ngram_range': (1, 1)}"
      ]
     },
     "execution_count": 18,
     "metadata": {},
     "output_type": "execute_result"
    }
   ],
   "source": [
    "clf_grid.best_params_"
   ]
  },
  {
   "cell_type": "code",
   "execution_count": 40,
   "metadata": {},
   "outputs": [
    {
     "data": {
      "text/plain": [
       "0.488232579603138"
      ]
     },
     "execution_count": 40,
     "metadata": {},
     "output_type": "execute_result"
    }
   ],
   "source": [
    "clf_grid.best_score_"
   ]
  },
  {
   "cell_type": "markdown",
   "metadata": {},
   "source": [
    "Compared the two grid search we find that the tf-idf provides better results with the optimal parameters."
   ]
  },
  {
   "cell_type": "markdown",
   "metadata": {},
   "source": [
    "### Try SVD with simply count"
   ]
  },
  {
   "cell_type": "markdown",
   "metadata": {},
   "source": [
    "try count with SVD see if it will perform better than before."
   ]
  },
  {
   "cell_type": "code",
   "execution_count": 20,
   "metadata": {},
   "outputs": [
    {
     "name": "stdout",
     "output_type": "stream",
     "text": [
      "Fitting 5 folds for each of 9 candidates, totalling 45 fits\n"
     ]
    },
    {
     "name": "stderr",
     "output_type": "stream",
     "text": [
      "[Parallel(n_jobs=-1)]: Using backend LokyBackend with 8 concurrent workers.\n",
      "[Parallel(n_jobs=-1)]: Done  45 out of  45 | elapsed: 12.0min finished\n",
      "/Users/shirley/anaconda3/lib/python3.7/site-packages/sklearn/svm/base.py:931: ConvergenceWarning: Liblinear failed to converge, increase the number of iterations.\n",
      "  \"the number of iterations.\", ConvergenceWarning)\n"
     ]
    },
    {
     "data": {
      "text/plain": [
       "GridSearchCV(cv=5, error_score='raise-deprecating',\n",
       "       estimator=Pipeline(memory=None,\n",
       "     steps=[('count', CountVectorizer(analyzer='word', binary=False, decode_error='strict',\n",
       "        dtype=<class 'numpy.int64'>, encoding='utf-8', input='content',\n",
       "        lowercase=True, max_df=1.0, max_features=10000, min_df=1,\n",
       "        ngram_range=(1, 2), preprocessor=None, stop_words=None,\n",
       "        str...ax_iter=1000,\n",
       "     multi_class='ovr', penalty='l2', random_state=None, tol=0.0001,\n",
       "     verbose=0))]),\n",
       "       fit_params=None, iid='warn', n_jobs=-1,\n",
       "       param_grid={'svd__n_components': [100, 200, 300, 350, 400, 500, 1000, 3000, 5000]},\n",
       "       pre_dispatch='2*n_jobs', refit=True, return_train_score='warn',\n",
       "       scoring=None, verbose=True)"
      ]
     },
     "execution_count": 20,
     "metadata": {},
     "output_type": "execute_result"
    }
   ],
   "source": [
    "pipeline = Pipeline([\n",
    "    ('count', CountVectorizer(max_features= 10000, ngram_range = (1,2))),\n",
    "    ('svd',TruncatedSVD()),\n",
    "    ('model', LinearSVC())\n",
    "])\n",
    "parameters = {'svd__n_components':[100,200,300,350,400,500,1000,3000,5000]}\n",
    "\n",
    "clf_grid = GridSearchCV(pipeline, parameters, cv=5, n_jobs=-1, verbose=True)\n",
    "clf_grid.fit(corpus,y)"
   ]
  },
  {
   "cell_type": "code",
   "execution_count": 21,
   "metadata": {},
   "outputs": [
    {
     "name": "stderr",
     "output_type": "stream",
     "text": [
      "/Users/shirley/anaconda3/lib/python3.7/site-packages/sklearn/utils/deprecation.py:125: FutureWarning: You are accessing a training score ('split0_train_score'), which will not be available by default any more in 0.21. If you need training scores, please set return_train_score=True\n",
      "  warnings.warn(*warn_args, **warn_kwargs)\n",
      "/Users/shirley/anaconda3/lib/python3.7/site-packages/sklearn/utils/deprecation.py:125: FutureWarning: You are accessing a training score ('split1_train_score'), which will not be available by default any more in 0.21. If you need training scores, please set return_train_score=True\n",
      "  warnings.warn(*warn_args, **warn_kwargs)\n",
      "/Users/shirley/anaconda3/lib/python3.7/site-packages/sklearn/utils/deprecation.py:125: FutureWarning: You are accessing a training score ('split2_train_score'), which will not be available by default any more in 0.21. If you need training scores, please set return_train_score=True\n",
      "  warnings.warn(*warn_args, **warn_kwargs)\n",
      "/Users/shirley/anaconda3/lib/python3.7/site-packages/sklearn/utils/deprecation.py:125: FutureWarning: You are accessing a training score ('split3_train_score'), which will not be available by default any more in 0.21. If you need training scores, please set return_train_score=True\n",
      "  warnings.warn(*warn_args, **warn_kwargs)\n",
      "/Users/shirley/anaconda3/lib/python3.7/site-packages/sklearn/utils/deprecation.py:125: FutureWarning: You are accessing a training score ('split4_train_score'), which will not be available by default any more in 0.21. If you need training scores, please set return_train_score=True\n",
      "  warnings.warn(*warn_args, **warn_kwargs)\n",
      "/Users/shirley/anaconda3/lib/python3.7/site-packages/sklearn/utils/deprecation.py:125: FutureWarning: You are accessing a training score ('mean_train_score'), which will not be available by default any more in 0.21. If you need training scores, please set return_train_score=True\n",
      "  warnings.warn(*warn_args, **warn_kwargs)\n",
      "/Users/shirley/anaconda3/lib/python3.7/site-packages/sklearn/utils/deprecation.py:125: FutureWarning: You are accessing a training score ('std_train_score'), which will not be available by default any more in 0.21. If you need training scores, please set return_train_score=True\n",
      "  warnings.warn(*warn_args, **warn_kwargs)\n"
     ]
    }
   ],
   "source": [
    "results = pd.melt(\n",
    "pd.DataFrame(clf_grid.cv_results_),\n",
    "id_vars=['param_svd__n_components'],\n",
    "value_vars=[\n",
    "'mean_test_score'\n",
    "],\n",
    "value_name='f1_scores'\n",
    ")\n",
    "\n",
    "results = results.drop(['variable'], axis=1)"
   ]
  },
  {
   "cell_type": "code",
   "execution_count": 22,
   "metadata": {},
   "outputs": [],
   "source": [
    "def plot_results(results, title,xlable,ylable):\n",
    "    f, ax = plt.subplots(figsize=(8, 5))\n",
    "    sns.lineplot(ax=ax,\n",
    "    x= xlable,\n",
    "    y= ylable,\n",
    "    data=results)\n",
    "    ax.set_xlabel(xlable)\n",
    "    ax.set_ylabel('mean of prediction accuracy')\n",
    "    ax.set_title(title)\n",
    "    ax.legend(loc='lower right')"
   ]
  },
  {
   "cell_type": "code",
   "execution_count": 25,
   "metadata": {},
   "outputs": [
    {
     "name": "stderr",
     "output_type": "stream",
     "text": [
      "No handles with labels found to put in legend.\n"
     ]
    },
    {
     "data": {
      "image/png": "[encoded data removed]",
      "text/plain": [
       "<Figure size 576x360 with 1 Axes>"
      ]
     },
     "metadata": {
      "needs_background": "light"
     },
     "output_type": "display_data"
    }
   ],
   "source": [
    "plot_results(results,'grid search for svd # of components with count', 'param_svd__n_components','f1_scores')"
   ]
  },
  {
   "cell_type": "code",
   "execution_count": 26,
   "metadata": {},
   "outputs": [
    {
     "data": {
      "text/plain": [
       "0.43285648361790496"
      ]
     },
     "execution_count": 26,
     "metadata": {},
     "output_type": "execute_result"
    }
   ],
   "source": [
    "clf_grid.best_score_"
   ]
  },
  {
   "cell_type": "markdown",
   "metadata": {},
   "source": [
    "There is no obvious improvement using count followed by SVD."
   ]
  },
  {
   "cell_type": "markdown",
   "metadata": {},
   "source": [
    "try tf-idf with SVD see if it will perform better than before."
   ]
  },
  {
   "cell_type": "code",
   "execution_count": 27,
   "metadata": {},
   "outputs": [
    {
     "name": "stdout",
     "output_type": "stream",
     "text": [
      "Fitting 5 folds for each of 7 candidates, totalling 35 fits\n"
     ]
    },
    {
     "name": "stderr",
     "output_type": "stream",
     "text": [
      "[Parallel(n_jobs=-1)]: Using backend LokyBackend with 8 concurrent workers.\n",
      "[Parallel(n_jobs=-1)]: Done  35 out of  35 | elapsed:   33.9s finished\n"
     ]
    },
    {
     "data": {
      "text/plain": [
       "GridSearchCV(cv=5, error_score='raise-deprecating',\n",
       "       estimator=Pipeline(memory=None,\n",
       "     steps=[('tfidf', TfidfVectorizer(analyzer='word', binary=False, decode_error='strict',\n",
       "        dtype=<class 'numpy.float64'>, encoding='utf-8', input='content',\n",
       "        lowercase=True, max_df=1.0, max_features=3000, min_df=1,\n",
       "        ngram_range=(1, 1), norm='l2', preprocessor=None, smooth_idf=True,...ax_iter=1000,\n",
       "     multi_class='ovr', penalty='l2', random_state=None, tol=0.0001,\n",
       "     verbose=0))]),\n",
       "       fit_params=None, iid='warn', n_jobs=-1,\n",
       "       param_grid={'svd__n_components': [100, 200, 300, 350, 400, 500, 1000]},\n",
       "       pre_dispatch='2*n_jobs', refit=True, return_train_score='warn',\n",
       "       scoring=None, verbose=True)"
      ]
     },
     "execution_count": 27,
     "metadata": {},
     "output_type": "execute_result"
    }
   ],
   "source": [
    "pipeline = Pipeline([\n",
    "    ('tfidf', TfidfVectorizer(max_features= 3000, ngram_range = (1,1))),\n",
    "    ('svd',TruncatedSVD()),\n",
    "    ('model', LinearSVC())\n",
    "])\n",
    "parameters = {'svd__n_components':[100,200,300,350,400,500,1000]}\n",
    "\n",
    "clf_grid = GridSearchCV(pipeline, parameters, cv=5, n_jobs=-1, verbose=True)\n",
    "clf_grid.fit(corpus,y)"
   ]
  },
  {
   "cell_type": "code",
   "execution_count": 29,
   "metadata": {},
   "outputs": [],
   "source": [
    "results = pd.melt(\n",
    "pd.DataFrame(clf_grid.cv_results_),\n",
    "id_vars=['param_svd__n_components'],\n",
    "value_vars=[\n",
    "'mean_test_score'\n",
    "],\n",
    "value_name='f1_scores'\n",
    ")\n",
    "\n",
    "results = results.drop(['variable'], axis=1)"
   ]
  },
  {
   "cell_type": "code",
   "execution_count": 31,
   "metadata": {},
   "outputs": [
    {
     "name": "stderr",
     "output_type": "stream",
     "text": [
      "No handles with labels found to put in legend.\n"
     ]
    },
    {
     "data": {
      "image/png": "[encoded data removed]",
      "text/plain": [
       "<Figure size 576x360 with 1 Axes>"
      ]
     },
     "metadata": {
      "needs_background": "light"
     },
     "output_type": "display_data"
    }
   ],
   "source": [
    "plot_results(results,'grid search for svd # of components with tfidf', 'param_svd__n_components','f1_scores')"
   ]
  },
  {
   "cell_type": "code",
   "execution_count": 32,
   "metadata": {},
   "outputs": [
    {
     "data": {
      "text/plain": [
       "0.49146285186894323"
      ]
     },
     "execution_count": 32,
     "metadata": {},
     "output_type": "execute_result"
    }
   ],
   "source": [
    "clf_grid.best_score_"
   ]
  },
  {
   "cell_type": "code",
   "execution_count": 34,
   "metadata": {},
   "outputs": [
    {
     "data": {
      "text/plain": [
       "{'svd__n_components': 500}"
      ]
     },
     "execution_count": 34,
     "metadata": {},
     "output_type": "execute_result"
    }
   ],
   "source": [
    "clf_grid.best_params_"
   ]
  },
  {
   "cell_type": "markdown",
   "metadata": {},
   "source": [
    "The result is slightly better than model only with tf-idf."
   ]
  },
  {
   "cell_type": "markdown",
   "metadata": {},
   "source": [
    "Based on above grid search, we find the best performed model is the one using tf-idf with svd where tf-idf max_features = 3000, ngram_range = (1,1), svd number of components = 500."
   ]
  },
  {
   "cell_type": "markdown",
   "metadata": {},
   "source": [
    "## Vocabulary feature--type-token ratio"
   ]
  },
  {
   "cell_type": "code",
   "execution_count": 41,
   "metadata": {},
   "outputs": [],
   "source": [
    "class uniqueWordRatioVec(object):\n",
    "    '''\n",
    "    convet bag of words(seperate by ' ') aka the \"wordBag\" column.\n",
    "    to \n",
    "    [number of unique words/length of the lyrics] vec\n",
    "    '''\n",
    "    \n",
    "    def __init__(self):\n",
    "        '''\n",
    "        self.dim: number of length of X, which is number lyrics.\n",
    "        '''\n",
    "        self.dim = 0\n",
    "        self.vec = []\n",
    "        return None\n",
    "    \n",
    "    def fitTransForm(self, X):\n",
    "        \"\"\"\n",
    "        length self.dim, but contains [k_0, k_1, .. ,k_n] for k_i in range(0, 1)\n",
    "        X is the \"wordBag\" column.\n",
    "        \"\"\"\n",
    "        for wordbag in X:\n",
    "            wordsList = wordbag.split(' ')\n",
    "            self.vec.append(len(set(wordsList)) / len(wordsList))\n",
    "        self.lengths = len(X)\n",
    "        return np.array(self.vec)\n",
    "            "
   ]
  },
  {
   "cell_type": "markdown",
   "metadata": {},
   "source": [
    "uniqueWordvecX = uniqueWordRatioVec().fitTransForm(corpus)\n",
    "uniqueWordvecX_test = uniqueWordRatioVec().fitTransForm(corpus_test)"
   ]
  },
  {
   "cell_type": "code",
   "execution_count": 43,
   "metadata": {},
   "outputs": [],
   "source": [
    "vectorizer_t = TfidfVectorizer(max_features= 3000, ngram_range = (1,1))\n",
    "svd = TruncatedSVD(n_components = 500)\n",
    "clf = LinearSVC()                             "
   ]
  },
  {
   "cell_type": "code",
   "execution_count": 44,
   "metadata": {},
   "outputs": [],
   "source": [
    "vectorizer_t.fit(corpus)\n",
    "X_t = vectorizer_t.transform(corpus)\n",
    "X_test_t = vectorizer_t.transform(corpus_test)\n",
    "svd.fit(X_t)\n",
    "X_d = svd.transform(X_t)\n",
    "X_test_d = svd.transform(X_test_t)"
   ]
  },
  {
   "cell_type": "code",
   "execution_count": 125,
   "metadata": {},
   "outputs": [
    {
     "data": {
      "text/plain": [
       "0.49064646835626957"
      ]
     },
     "execution_count": 125,
     "metadata": {},
     "output_type": "execute_result"
    }
   ],
   "source": [
    "clf.fit(X_d,y)\n",
    "y_pred = clf.predict(X_test_d)\n",
    "\n",
    "\n",
    "f1_score(y_true, y_pred, average = 'macro') "
   ]
  },
  {
   "cell_type": "markdown",
   "metadata": {},
   "source": [
    "This is the best result with only tf-idf features."
   ]
  },
  {
   "cell_type": "code",
   "execution_count": 49,
   "metadata": {},
   "outputs": [],
   "source": [
    "X_new = np.c_[X_d,uniqueWordvecX]\n",
    "X_test_new = np.c_[X_test_d, uniqueWordvecX_test]"
   ]
  },
  {
   "cell_type": "code",
   "execution_count": 52,
   "metadata": {},
   "outputs": [
    {
     "data": {
      "text/plain": [
       "0.4959295372260536"
      ]
     },
     "execution_count": 52,
     "metadata": {},
     "output_type": "execute_result"
    }
   ],
   "source": [
    "clf.fit(X_new,y)\n",
    "y_pred = clf.predict(X_test_new)\n",
    "\n",
    "\n",
    "f1_score(y_true, y_pred, average = 'macro') "
   ]
  },
  {
   "cell_type": "markdown",
   "metadata": {},
   "source": [
    "The F1 score increas to 0.496"
   ]
  },
  {
   "cell_type": "markdown",
   "metadata": {},
   "source": [
    "## Lyrics style---- POS tag, length per line and repetition"
   ]
  },
  {
   "cell_type": "code",
   "execution_count": 53,
   "metadata": {},
   "outputs": [],
   "source": [
    "class styleVector(object):\n",
    "    \"\"\"\n",
    "    feature type: style:\n",
    "    (1)   POS (map to super tag V N ADV)\n",
    "    (2)   Length per line\n",
    "    (3)   *Repetition:\n",
    "    letter level: # of repeated letter >3\n",
    "    word level: count 1 word and 2 words repetition as one feature\n",
    "    \"\"\"\n",
    "    def __init__(self):\n",
    "        self.dim = 0\n",
    "        self.vec = []\n",
    "        self.posTags = ['LS', 'TO', 'VBN', \"''\", 'WP', 'UH', 'VBG', 'JJ', 'VBZ', \\\n",
    "                        '--', 'VBP', 'NN', 'DT', 'PRP', ':', 'WP$', 'NNPS', 'PRP$', 'WDT', '(', ')', '.', ',', '``', '$',\\\n",
    "                        'RB', 'RBR', 'RBS', 'VBD', 'IN', 'FW', 'RP', 'JJR', 'JJS', 'PDT', 'MD', 'VB', 'WRB', 'NNP', 'EX', \\\n",
    "                        'NNS', 'SYM', 'CC', 'CD', 'POS']\n",
    "        return\n",
    "    \n",
    "    def fitTransForm(self, X):\n",
    "        \"\"\"\n",
    "        X is the \"lyrics\" column.\n",
    "        \"\"\"\n",
    "        ct = 0\n",
    "        for lyc in X:\n",
    "            wordBaglyc = nltk.word_tokenize(lyc)\n",
    "            \n",
    "            \n",
    "            posTag = self.generatePosTag(lyc, wordBaglyc)\n",
    "            lengthPerLine = self.generateLenPerLine(lyc, wordBaglyc)\n",
    "            repInfo = self.generateRepeatInfo(lyc, wordBaglyc)\n",
    "            \n",
    "            \n",
    "            vec = posTag + [lengthPerLine] + repInfo\n",
    "            \n",
    "            ct += 1\n",
    "            if ct % 100 == 0:\n",
    "                print(ct, len(X))\n",
    "                \n",
    "            self.vec.append(vec)\n",
    "        return np.array(self.vec)\n",
    "            \n",
    "    \n",
    "    def generatePosTag(self, lyric, wordbaglyric):\n",
    "        \"\"\"\n",
    "        lyric: an item of lyric.\n",
    "        rtype: [count for each type], size is 45.\n",
    "        wordbaglyric: str, word_tokenize version of lyric.\n",
    "        \"\"\"\n",
    "        tagCount = Counter(x[1] for x in nltk.pos_tag(wordbaglyric))\n",
    "        vec = [0] * 45\n",
    "        for idx, tag in enumerate(self.posTags):\n",
    "            if tag in tagCount.keys():\n",
    "                vec[idx] = tagCount[tag]\n",
    "        return vec\n",
    "    \n",
    "    def generateLenPerLine(self, lyric, wordbaglyric):\n",
    "        \"\"\"\n",
    "        lyric: an item of lyric.\n",
    "        rtype: double, (number of word)/(number of \\n)\n",
    "        wordbaglyric: str, word_tokenize version of lyric.\n",
    "        \"\"\"\n",
    "        #wordCount = len(nltk.word_tokenize(lyric))\n",
    "        wordCount = len(wordbaglyric)\n",
    "        LineCount = Counter(lyric)['\\n']\n",
    "        if LineCount == 0:\n",
    "            return wordCount\n",
    "        return wordCount/LineCount\n",
    "    \n",
    "    def generateRepeatInfo(self, lyric, wordbaglyric):\n",
    "        \"\"\"\n",
    "        lyric: an item of lyric.\n",
    "        rtype: [count of reapeat letter > 3, count of repeat word, count of repeat 2-gram], size is 45.\n",
    "        wordbaglyric: str, word_tokenize version of lyric.\n",
    "        \"\"\"\n",
    "        ctRepeatChar = 0\n",
    "        chQue = deque(maxlen = 3)\n",
    "        for ch in lyric:\n",
    "            chQue.append(ch.lower())\n",
    "            if len(chQue) == 3:\n",
    "                if chQue[0] == chQue[1] and chQue[1] == chQue[2]:\n",
    "                    ctRepeatChar += 1\n",
    "        \n",
    "        words = wordbaglyric\n",
    "        \n",
    "        wordQueue = deque(maxlen = 2)\n",
    "        twoGramQueue = deque(maxlen = 4)\n",
    "        \n",
    "        ctRepeatWord = 0\n",
    "        ctRepeatTwoGram = 0\n",
    "        \n",
    "        for w in words:\n",
    "            wordQueue.append(w.lower())\n",
    "            twoGramQueue.append(w.lower())\n",
    "            if len(wordQueue) == 2:\n",
    "                if wordQueue[0] == wordQueue[1]:\n",
    "                    ctRepeatWord += 1\n",
    "            if len(twoGramQueue) == 4:\n",
    "                if twoGramQueue[0] == twoGramQueue[2] and twoGramQueue[1] == twoGramQueue[3]:\n",
    "                    ctRepeatTwoGram += 1\n",
    "        \n",
    "        return [ctRepeatChar, ctRepeatWord, ctRepeatTwoGram]\n",
    "        "
   ]
  },
  {
   "cell_type": "code",
   "execution_count": 54,
   "metadata": {},
   "outputs": [],
   "source": [
    "Xtest = test['lyrics'].values.astype(str).tolist()\n",
    "Xtrain = train['lyrics'].values.astype(str).tolist()"
   ]
  },
  {
   "cell_type": "code",
   "execution_count": 61,
   "metadata": {},
   "outputs": [
    {
     "name": "stderr",
     "output_type": "stream",
     "text": [
      "[nltk_data] Downloading package averaged_perceptron_tagger to\n",
      "[nltk_data]     /Users/shirley/nltk_data...\n",
      "[nltk_data]   Unzipping taggers/averaged_perceptron_tagger.zip.\n"
     ]
    },
    {
     "data": {
      "text/plain": [
       "True"
      ]
     },
     "execution_count": 61,
     "metadata": {},
     "output_type": "execute_result"
    }
   ],
   "source": [
    "nltk.download('punkt')\n",
    "nltk.download('averaged_perceptron_tagger')"
   ]
  },
  {
   "cell_type": "code",
   "execution_count": 62,
   "metadata": {},
   "outputs": [
    {
     "name": "stdout",
     "output_type": "stream",
     "text": [
      "100 4334\n",
      "200 4334\n",
      "300 4334\n",
      "400 4334\n",
      "500 4334\n",
      "600 4334\n",
      "700 4334\n",
      "800 4334\n",
      "900 4334\n",
      "1000 4334\n",
      "1100 4334\n",
      "1200 4334\n",
      "1300 4334\n",
      "1400 4334\n",
      "1500 4334\n",
      "1600 4334\n",
      "1700 4334\n",
      "1800 4334\n",
      "1900 4334\n",
      "2000 4334\n",
      "2100 4334\n",
      "2200 4334\n",
      "2300 4334\n",
      "2400 4334\n",
      "2500 4334\n",
      "2600 4334\n",
      "2700 4334\n",
      "2800 4334\n",
      "2900 4334\n",
      "3000 4334\n",
      "3100 4334\n",
      "3200 4334\n",
      "3300 4334\n",
      "3400 4334\n",
      "3500 4334\n",
      "3600 4334\n",
      "3700 4334\n",
      "3800 4334\n",
      "3900 4334\n",
      "4000 4334\n",
      "4100 4334\n",
      "4200 4334\n",
      "4300 4334\n",
      "100 1084\n",
      "200 1084\n",
      "300 1084\n",
      "400 1084\n",
      "500 1084\n",
      "600 1084\n",
      "700 1084\n",
      "800 1084\n",
      "900 1084\n",
      "1000 1084\n"
     ]
    }
   ],
   "source": [
    "Xstyle = styleVector().fitTransForm(Xtrain)\n",
    "X_teststyle = styleVector().fitTransForm(Xtest)"
   ]
  },
  {
   "cell_type": "markdown",
   "metadata": {},
   "source": [
    "We add these three features into the model."
   ]
  },
  {
   "cell_type": "code",
   "execution_count": 70,
   "metadata": {},
   "outputs": [],
   "source": [
    "X_new_style = np.c_[X_d, Xstyle]\n",
    "X_test_new_style = np.c_[X_test_d, X_teststyle]"
   ]
  },
  {
   "cell_type": "code",
   "execution_count": 75,
   "metadata": {},
   "outputs": [
    {
     "data": {
      "text/plain": [
       "(4334, 45)"
      ]
     },
     "execution_count": 75,
     "metadata": {},
     "output_type": "execute_result"
    }
   ],
   "source": [
    "Xstyle[:,:45].shape"
   ]
  },
  {
   "cell_type": "code",
   "execution_count": 71,
   "metadata": {},
   "outputs": [
    {
     "name": "stderr",
     "output_type": "stream",
     "text": [
      "/Users/shirley/anaconda3/lib/python3.7/site-packages/sklearn/svm/base.py:931: ConvergenceWarning: Liblinear failed to converge, increase the number of iterations.\n",
      "  \"the number of iterations.\", ConvergenceWarning)\n"
     ]
    },
    {
     "data": {
      "text/plain": [
       "0.3978117993212481"
      ]
     },
     "execution_count": 71,
     "metadata": {},
     "output_type": "execute_result"
    }
   ],
   "source": [
    "clf.fit(X_new_style,y)\n",
    "y_pred = clf.predict(X_test_new_style)\n",
    "\n",
    "\n",
    "f1_score(y_true, y_pred, average = 'macro') "
   ]
  },
  {
   "cell_type": "markdown",
   "metadata": {},
   "source": [
    "It seems that the features didn't help. We try to add one by one to see if any of them is effective for our model."
   ]
  },
  {
   "cell_type": "markdown",
   "metadata": {},
   "source": [
    "Add only POS tag to the model"
   ]
  },
  {
   "cell_type": "code",
   "execution_count": 77,
   "metadata": {},
   "outputs": [],
   "source": [
    "X_new_style = np.c_[X_d, Xstyle[:,:45]]\n",
    "X_test_new_style = np.c_[X_test_d, X_teststyle[:,:45]]"
   ]
  },
  {
   "cell_type": "code",
   "execution_count": 78,
   "metadata": {},
   "outputs": [
    {
     "name": "stderr",
     "output_type": "stream",
     "text": [
      "/Users/shirley/anaconda3/lib/python3.7/site-packages/sklearn/svm/base.py:931: ConvergenceWarning: Liblinear failed to converge, increase the number of iterations.\n",
      "  \"the number of iterations.\", ConvergenceWarning)\n"
     ]
    },
    {
     "data": {
      "text/plain": [
       "0.3757800825766353"
      ]
     },
     "execution_count": 78,
     "metadata": {},
     "output_type": "execute_result"
    }
   ],
   "source": [
    "clf.fit(X_new_style,y)\n",
    "y_pred = clf.predict(X_test_new_style)\n",
    "\n",
    "\n",
    "f1_score(y_true, y_pred, average = 'macro') "
   ]
  },
  {
   "cell_type": "markdown",
   "metadata": {},
   "source": [
    "The POS tags didn't work"
   ]
  },
  {
   "cell_type": "code",
   "execution_count": 79,
   "metadata": {},
   "outputs": [],
   "source": [
    "X_new_style = np.c_[X_d, Xstyle[:,45]]\n",
    "X_test_new_style = np.c_[X_test_d, X_teststyle[:,45]]"
   ]
  },
  {
   "cell_type": "code",
   "execution_count": 80,
   "metadata": {},
   "outputs": [
    {
     "name": "stderr",
     "output_type": "stream",
     "text": [
      "/Users/shirley/anaconda3/lib/python3.7/site-packages/sklearn/svm/base.py:931: ConvergenceWarning: Liblinear failed to converge, increase the number of iterations.\n",
      "  \"the number of iterations.\", ConvergenceWarning)\n"
     ]
    },
    {
     "data": {
      "text/plain": [
       "0.5000221001009789"
      ]
     },
     "execution_count": 80,
     "metadata": {},
     "output_type": "execute_result"
    }
   ],
   "source": [
    "clf.fit(X_new_style,y)\n",
    "y_pred = clf.predict(X_test_new_style)\n",
    "\n",
    "\n",
    "f1_score(y_true, y_pred, average = 'macro') "
   ]
  },
  {
   "cell_type": "markdown",
   "metadata": {},
   "source": [
    "The length per line seems work"
   ]
  },
  {
   "cell_type": "code",
   "execution_count": 86,
   "metadata": {},
   "outputs": [],
   "source": [
    "X_new_style = np.c_[X_new, Xstyle[:,46:]]\n",
    "X_test_new_style = np.c_[X_test_new, X_teststyle[:,46:]]"
   ]
  },
  {
   "cell_type": "code",
   "execution_count": 87,
   "metadata": {},
   "outputs": [
    {
     "name": "stderr",
     "output_type": "stream",
     "text": [
      "/Users/shirley/anaconda3/lib/python3.7/site-packages/sklearn/svm/base.py:931: ConvergenceWarning: Liblinear failed to converge, increase the number of iterations.\n",
      "  \"the number of iterations.\", ConvergenceWarning)\n"
     ]
    },
    {
     "data": {
      "text/plain": [
       "0.5026925638897466"
      ]
     },
     "execution_count": 87,
     "metadata": {},
     "output_type": "execute_result"
    }
   ],
   "source": [
    "clf.fit(X_new_style,y)\n",
    "y_pred = clf.predict(X_test_new_style)\n",
    "\n",
    "\n",
    "f1_score(y_true, y_pred, average = 'macro') "
   ]
  },
  {
   "cell_type": "markdown",
   "metadata": {},
   "source": [
    "The combination of the features we already have with length per line gives F1 socre equals to 0.503"
   ]
  },
  {
   "cell_type": "markdown",
   "metadata": {},
   "source": [
    "try the repetition only"
   ]
  },
  {
   "cell_type": "code",
   "execution_count": 81,
   "metadata": {},
   "outputs": [],
   "source": [
    "X_new_style = np.c_[X_d, Xstyle[:,46:]]\n",
    "X_test_new_style = np.c_[X_test_d, X_teststyle[:,46:]]"
   ]
  },
  {
   "cell_type": "code",
   "execution_count": 82,
   "metadata": {},
   "outputs": [
    {
     "name": "stderr",
     "output_type": "stream",
     "text": [
      "/Users/shirley/anaconda3/lib/python3.7/site-packages/sklearn/svm/base.py:931: ConvergenceWarning: Liblinear failed to converge, increase the number of iterations.\n",
      "  \"the number of iterations.\", ConvergenceWarning)\n"
     ]
    },
    {
     "data": {
      "text/plain": [
       "0.4897907238588967"
      ]
     },
     "execution_count": 82,
     "metadata": {},
     "output_type": "execute_result"
    }
   ],
   "source": [
    "clf.fit(X_new_style,y)\n",
    "y_pred = clf.predict(X_test_new_style)\n",
    "\n",
    "\n",
    "f1_score(y_true, y_pred, average = 'macro') "
   ]
  },
  {
   "cell_type": "markdown",
   "metadata": {},
   "source": [
    "The repetition didn't work well"
   ]
  },
  {
   "cell_type": "code",
   "execution_count": 84,
   "metadata": {},
   "outputs": [],
   "source": [
    "X_new_style = np.c_[X_d, Xstyle[:,45:]]\n",
    "X_test_new_style = np.c_[X_test_d, X_teststyle[:,45:]]"
   ]
  },
  {
   "cell_type": "code",
   "execution_count": 85,
   "metadata": {},
   "outputs": [
    {
     "name": "stderr",
     "output_type": "stream",
     "text": [
      "/Users/shirley/anaconda3/lib/python3.7/site-packages/sklearn/svm/base.py:931: ConvergenceWarning: Liblinear failed to converge, increase the number of iterations.\n",
      "  \"the number of iterations.\", ConvergenceWarning)\n"
     ]
    },
    {
     "data": {
      "text/plain": [
       "0.5024617670641515"
      ]
     },
     "execution_count": 85,
     "metadata": {},
     "output_type": "execute_result"
    }
   ],
   "source": [
    "clf.fit(X_new_style,y)\n",
    "y_pred = clf.predict(X_test_new_style)\n",
    "\n",
    "\n",
    "f1_score(y_true, y_pred, average = 'macro') "
   ]
  },
  {
   "cell_type": "markdown",
   "metadata": {},
   "source": [
    "The combination of the repetition and length per line gives the best results."
   ]
  },
  {
   "cell_type": "code",
   "execution_count": 88,
   "metadata": {},
   "outputs": [],
   "source": [
    "X_new_style = np.c_[X_new, Xstyle[:,45:]]\n",
    "X_test_new_style = np.c_[X_test_new, X_teststyle[:,45:]]"
   ]
  },
  {
   "cell_type": "code",
   "execution_count": 89,
   "metadata": {},
   "outputs": [
    {
     "name": "stderr",
     "output_type": "stream",
     "text": [
      "/Users/shirley/anaconda3/lib/python3.7/site-packages/sklearn/svm/base.py:931: ConvergenceWarning: Liblinear failed to converge, increase the number of iterations.\n",
      "  \"the number of iterations.\", ConvergenceWarning)\n"
     ]
    },
    {
     "data": {
      "text/plain": [
       "0.5076254310575671"
      ]
     },
     "execution_count": 89,
     "metadata": {},
     "output_type": "execute_result"
    }
   ],
   "source": [
    "clf.fit(X_new_style,y)\n",
    "y_pred = clf.predict(X_test_new_style)\n",
    "\n",
    "\n",
    "f1_score(y_true, y_pred, average = 'macro') "
   ]
  },
  {
   "cell_type": "markdown",
   "metadata": {},
   "source": [
    "The model that combines all the effective features gives the F1 socre 0.508"
   ]
  },
  {
   "cell_type": "markdown",
   "metadata": {},
   "source": [
    "## Orientation----Past tense ratio, self-reference ratio, the ratio of first-person singular pronouns to second person"
   ]
  },
  {
   "cell_type": "code",
   "execution_count": 104,
   "metadata": {},
   "outputs": [],
   "source": [
    "class orientatedVec(object):\n",
    "    \n",
    "    def __init__(self):\n",
    "        \"\"\"\n",
    "        initial vector.\n",
    "        \"\"\"\n",
    "        self.vec = []\n",
    "        self.dim = None\n",
    "        return None\n",
    "    \n",
    "    def fitTransform(self, X):\n",
    "        \"\"\"\n",
    "        input: X is the 'wordbag' column. (k, ) dimension\n",
    "        output: (k, 3) vec. \n",
    "        \"\"\"\n",
    "        for lyric in X:\n",
    "            lyricwBag = lyric.split(' ')\n",
    "            pastR = self.generatePastVerbRatio(lyricwBag)\n",
    "            selfRefVec = self.generateSelfRefToOthersandToSecond(lyricwBag)\n",
    "            self.vec.append([pastR] + selfRefVec)\n",
    "        self.dim = len(X)\n",
    "        self.vec = np.array(self.vec)\n",
    "        return self.vec\n",
    "        \n",
    "    def generatePastVerbRatio(self, lyricWordBag):\n",
    "        \"\"\"\n",
    "        Past tense ratio: the fraction of past tense verb forms to all verb forms as a feature\n",
    "        input: list of str, list of words in lyric.\n",
    "        rtype: float, ratio, from 0 to 1.\n",
    "        \"\"\"\n",
    "        pTags = nltk.pos_tag(lyricWordBag)\n",
    "        verbCount = Counter(x[1][0] for x in pTags)['V']\n",
    "        pastCount = Counter(x[1] for x in pTags)['VBN']\n",
    "        if verbCount == 0:\n",
    "            return 0\n",
    "        return pastCount/verbCount\n",
    "    def generateSelfRefToOthersandToSecond(self, lyricWordBag):\n",
    "        \"\"\"\n",
    "        Self-reference ratio: # of the first person singular and plural/ 2 and 3 person\n",
    "        input: list of str, word bag of lyric\n",
    "        rtype: [float, float] ratio, range vaires. [one / other, one / second]\n",
    "        \"\"\"\n",
    "        firstPersonSingular = set(['i', 'me', 'my'])\n",
    "        secondPersonSingular = set(['you', 'your'])\n",
    "        thirdPersonSingular = set(['it', 'its', 'he', 'his', 'him', 'she', 'her'])\n",
    "        \n",
    "        firstPersonCount = 0\n",
    "        secondPersonCount = 0\n",
    "        thirdPersonCount = 0\n",
    "        \n",
    "        for word in lyricWordBag:\n",
    "            if word in firstPersonSingular:\n",
    "                firstPersonCount += 1\n",
    "            if word in secondPersonSingular:\n",
    "                secondPersonCount += 1\n",
    "            if word in thirdPersonSingular:\n",
    "                thirdPersonCount += 1\n",
    "        \n",
    "        if secondPersonCount + thirdPersonCount == 0:\n",
    "            return [0, 0]\n",
    "            #if the sum is zero, all of the counts are zeros.\n",
    "        if secondPersonCount == 0 and thirdPersonCount != 0:\n",
    "            return [firstPersonCount/thirdPersonCount, 0]\n",
    "        if thirdPersonCount == 0 and secondPersonCount != 0:\n",
    "            return [0, firstPersonCount/secondPersonCount]\n",
    "        return [firstPersonCount/(secondPersonCount + thirdPersonCount), firstPersonCount/(secondPersonCount)]"
   ]
  },
  {
   "cell_type": "code",
   "execution_count": 105,
   "metadata": {},
   "outputs": [],
   "source": [
    "X_ori = orientatedVec().fitTransform(corpus)\n",
    "X_test_ori = orientatedVec().fitTransform(corpus_test)"
   ]
  },
  {
   "cell_type": "code",
   "execution_count": 108,
   "metadata": {},
   "outputs": [],
   "source": [
    "X_new_ori = np.c_[X_d, X_ori]\n",
    "X_test_new_ori = np.c_[X_test_d, X_test_ori]"
   ]
  },
  {
   "cell_type": "code",
   "execution_count": 109,
   "metadata": {},
   "outputs": [
    {
     "name": "stderr",
     "output_type": "stream",
     "text": [
      "/Users/shirley/anaconda3/lib/python3.7/site-packages/sklearn/svm/base.py:931: ConvergenceWarning: Liblinear failed to converge, increase the number of iterations.\n",
      "  \"the number of iterations.\", ConvergenceWarning)\n"
     ]
    },
    {
     "data": {
      "text/plain": [
       "0.4928701784554046"
      ]
     },
     "execution_count": 109,
     "metadata": {},
     "output_type": "execute_result"
    }
   ],
   "source": [
    "clf.fit(X_new_ori,y)\n",
    "y_pred = clf.predict(X_test_new_ori)\n",
    "\n",
    "\n",
    "f1_score(y_true, y_pred, average = 'macro') "
   ]
  },
  {
   "cell_type": "markdown",
   "metadata": {},
   "source": [
    "The F1 score with orientation slightly increased."
   ]
  },
  {
   "cell_type": "code",
   "execution_count": 112,
   "metadata": {},
   "outputs": [],
   "source": [
    "X_new_ori = np.c_[X_new_style, X_ori]\n",
    "X_test_new_ori = np.c_[X_test_new_style, X_test_ori]"
   ]
  },
  {
   "cell_type": "code",
   "execution_count": 113,
   "metadata": {},
   "outputs": [
    {
     "name": "stderr",
     "output_type": "stream",
     "text": [
      "/Users/shirley/anaconda3/lib/python3.7/site-packages/sklearn/svm/base.py:931: ConvergenceWarning: Liblinear failed to converge, increase the number of iterations.\n",
      "  \"the number of iterations.\", ConvergenceWarning)\n"
     ]
    },
    {
     "data": {
      "text/plain": [
       "0.4965290476331005"
      ]
     },
     "execution_count": 113,
     "metadata": {},
     "output_type": "execute_result"
    }
   ],
   "source": [
    "clf.fit(X_new_ori,y)\n",
    "y_pred = clf.predict(X_test_new_ori)\n",
    "\n",
    "\n",
    "f1_score(y_true, y_pred, average = 'macro') "
   ]
  },
  {
   "cell_type": "markdown",
   "metadata": {},
   "source": [
    "Add the orientation features, we got 0.497 F1 score which is lower than before. Let us see if any of the features belong to this category could help improve the model."
   ]
  },
  {
   "cell_type": "code",
   "execution_count": 115,
   "metadata": {},
   "outputs": [],
   "source": [
    "X_new_ori = np.c_[X_d, X_ori[:,0]]\n",
    "X_test_new_ori = np.c_[X_test_d, X_test_ori[:,0]]"
   ]
  },
  {
   "cell_type": "code",
   "execution_count": 116,
   "metadata": {},
   "outputs": [
    {
     "data": {
      "text/plain": [
       "0.4881715846388798"
      ]
     },
     "execution_count": 116,
     "metadata": {},
     "output_type": "execute_result"
    }
   ],
   "source": [
    "clf.fit(X_new_ori,y)\n",
    "y_pred = clf.predict(X_test_new_ori)\n",
    "\n",
    "\n",
    "f1_score(y_true, y_pred, average = 'macro') "
   ]
  },
  {
   "cell_type": "code",
   "execution_count": 117,
   "metadata": {},
   "outputs": [],
   "source": [
    "X_new_ori = np.c_[X_d, X_ori[:,1]]\n",
    "X_test_new_ori = np.c_[X_test_d, X_test_ori[:,1]]"
   ]
  },
  {
   "cell_type": "code",
   "execution_count": 118,
   "metadata": {},
   "outputs": [
    {
     "name": "stderr",
     "output_type": "stream",
     "text": [
      "/Users/shirley/anaconda3/lib/python3.7/site-packages/sklearn/svm/base.py:931: ConvergenceWarning: Liblinear failed to converge, increase the number of iterations.\n",
      "  \"the number of iterations.\", ConvergenceWarning)\n"
     ]
    },
    {
     "data": {
      "text/plain": [
       "0.4902397241657116"
      ]
     },
     "execution_count": 118,
     "metadata": {},
     "output_type": "execute_result"
    }
   ],
   "source": [
    "clf.fit(X_new_ori,y)\n",
    "y_pred = clf.predict(X_test_new_ori)\n",
    "\n",
    "\n",
    "f1_score(y_true, y_pred, average = 'macro') "
   ]
  },
  {
   "cell_type": "code",
   "execution_count": 119,
   "metadata": {},
   "outputs": [],
   "source": [
    "X_new_ori = np.c_[X_d, X_ori[:,2]]\n",
    "X_test_new_ori = np.c_[X_test_d, X_test_ori[:,2]]"
   ]
  },
  {
   "cell_type": "code",
   "execution_count": 120,
   "metadata": {},
   "outputs": [
    {
     "name": "stderr",
     "output_type": "stream",
     "text": [
      "/Users/shirley/anaconda3/lib/python3.7/site-packages/sklearn/svm/base.py:931: ConvergenceWarning: Liblinear failed to converge, increase the number of iterations.\n",
      "  \"the number of iterations.\", ConvergenceWarning)\n"
     ]
    },
    {
     "data": {
      "text/plain": [
       "0.4921097718117039"
      ]
     },
     "execution_count": 120,
     "metadata": {},
     "output_type": "execute_result"
    }
   ],
   "source": [
    "clf.fit(X_new_ori,y)\n",
    "y_pred = clf.predict(X_test_new_ori)\n",
    "\n",
    "\n",
    "f1_score(y_true, y_pred, average = 'macro') "
   ]
  },
  {
   "cell_type": "code",
   "execution_count": 121,
   "metadata": {},
   "outputs": [],
   "source": [
    "X_new_ori = np.c_[X_d, X_ori[:,:2]]\n",
    "X_test_new_ori = np.c_[X_test_d, X_test_ori[:,:2]]"
   ]
  },
  {
   "cell_type": "code",
   "execution_count": 122,
   "metadata": {},
   "outputs": [
    {
     "name": "stderr",
     "output_type": "stream",
     "text": [
      "/Users/shirley/anaconda3/lib/python3.7/site-packages/sklearn/svm/base.py:931: ConvergenceWarning: Liblinear failed to converge, increase the number of iterations.\n",
      "  \"the number of iterations.\", ConvergenceWarning)\n"
     ]
    },
    {
     "data": {
      "text/plain": [
       "0.48888006527935535"
      ]
     },
     "execution_count": 122,
     "metadata": {},
     "output_type": "execute_result"
    }
   ],
   "source": [
    "clf.fit(X_new_ori,y)\n",
    "y_pred = clf.predict(X_test_new_ori)\n",
    "\n",
    "\n",
    "f1_score(y_true, y_pred, average = 'macro') "
   ]
  },
  {
   "cell_type": "code",
   "execution_count": 123,
   "metadata": {},
   "outputs": [],
   "source": [
    "X_new_ori = np.c_[X_d, X_ori[:,1:]]\n",
    "X_test_new_ori = np.c_[X_test_d, X_test_ori[:,1:]]"
   ]
  },
  {
   "cell_type": "code",
   "execution_count": 124,
   "metadata": {},
   "outputs": [
    {
     "name": "stderr",
     "output_type": "stream",
     "text": [
      "/Users/shirley/anaconda3/lib/python3.7/site-packages/sklearn/svm/base.py:931: ConvergenceWarning: Liblinear failed to converge, increase the number of iterations.\n",
      "  \"the number of iterations.\", ConvergenceWarning)\n"
     ]
    },
    {
     "data": {
      "text/plain": [
       "0.49479309160892837"
      ]
     },
     "execution_count": 124,
     "metadata": {},
     "output_type": "execute_result"
    }
   ],
   "source": [
    "clf.fit(X_new_ori,y)\n",
    "y_pred = clf.predict(X_test_new_ori)\n",
    "\n",
    "\n",
    "f1_score(y_true, y_pred, average = 'macro')"
   ]
  },
  {
   "cell_type": "code",
   "execution_count": 126,
   "metadata": {},
   "outputs": [],
   "source": [
    "X_new_ori = np.c_[X_d, X_ori[:,[0,2]]]\n",
    "X_test_new_ori = np.c_[X_test_d, X_test_ori[:,[0,2]]]"
   ]
  },
  {
   "cell_type": "code",
   "execution_count": 127,
   "metadata": {},
   "outputs": [
    {
     "name": "stderr",
     "output_type": "stream",
     "text": [
      "/Users/shirley/anaconda3/lib/python3.7/site-packages/sklearn/svm/base.py:931: ConvergenceWarning: Liblinear failed to converge, increase the number of iterations.\n",
      "  \"the number of iterations.\", ConvergenceWarning)\n"
     ]
    },
    {
     "data": {
      "text/plain": [
       "0.4905577827800668"
      ]
     },
     "execution_count": 127,
     "metadata": {},
     "output_type": "execute_result"
    }
   ],
   "source": [
    "clf.fit(X_new_ori,y)\n",
    "y_pred = clf.predict(X_test_new_ori)\n",
    "\n",
    "\n",
    "f1_score(y_true, y_pred, average = 'macro')"
   ]
  },
  {
   "cell_type": "markdown",
   "metadata": {},
   "source": [
    "Based on above results, the past tense ratio doesn't work. Thus, we only choose the rest of orientation features to be added in our model."
   ]
  },
  {
   "cell_type": "code",
   "execution_count": 128,
   "metadata": {},
   "outputs": [],
   "source": [
    "X_new_ori = np.c_[X_new_style, X_ori[:,1:]]\n",
    "X_test_new_ori = np.c_[X_test_new_style, X_test_ori[:,1:]]"
   ]
  },
  {
   "cell_type": "code",
   "execution_count": 129,
   "metadata": {},
   "outputs": [
    {
     "name": "stderr",
     "output_type": "stream",
     "text": [
      "/Users/shirley/anaconda3/lib/python3.7/site-packages/sklearn/svm/base.py:931: ConvergenceWarning: Liblinear failed to converge, increase the number of iterations.\n",
      "  \"the number of iterations.\", ConvergenceWarning)\n"
     ]
    },
    {
     "data": {
      "text/plain": [
       "0.5091398583306856"
      ]
     },
     "execution_count": 129,
     "metadata": {},
     "output_type": "execute_result"
    }
   ],
   "source": [
    "clf.fit(X_new_ori,y)\n",
    "y_pred = clf.predict(X_test_new_ori)\n",
    "\n",
    "\n",
    "f1_score(y_true, y_pred, average = 'macro')"
   ]
  },
  {
   "cell_type": "markdown",
   "metadata": {},
   "source": [
    "After add these features, we got 0.509 F1 score."
   ]
  },
  {
   "cell_type": "markdown",
   "metadata": {},
   "source": [
    "### Another orientation feature--negative/positive third persion ratio"
   ]
  },
  {
   "cell_type": "code",
   "execution_count": 132,
   "metadata": {},
   "outputs": [],
   "source": [
    "class negPosThirdPerson(object):\n",
    "    \"\"\"\n",
    "    build a feature with:\n",
    "    [\n",
    "    [# of positive third person purals] / [# of positive third person purals] + [# of negative third person purals],\n",
    "    [# of negative third person purals] / [# of positive third person purals] + [# of negative third person purals]\n",
    "    ],\n",
    "    sum of the vector should be one, if [# of positive third person purals] + [# of negative third person purals] == 0,\n",
    "    will set the vector to [0.5, 0.5]\n",
    "    \"\"\"\n",
    "    \n",
    "    def __init__(self):\n",
    "        \"\"\"\n",
    "        self.dim : number of lyrics, (k, 1) the k.\n",
    "        self.vec : the vec [(0.5, 0.5), (0.2, 0.8) ,..., (...)]\n",
    "        \"\"\"\n",
    "        self.dim = None\n",
    "        self.vec = []\n",
    "    def transform(self, bagsOfWords):\n",
    "        \"\"\"\n",
    "        input: bagsOfWords column\n",
    "        output: np.array of feature vector.\n",
    "        bagsOfWords should be the column of word bags.\n",
    "        \"\"\"\n",
    "        postivePrunals = set(['he', 'him', 'his'])\n",
    "        negtivePrunals = set(['she', 'her'])\n",
    "        \n",
    "        \n",
    "        for bag in bagsOfWords:\n",
    "            \"\"\"\n",
    "            vec: [(positive ratio, negetive ratio)]\n",
    "            \"\"\"\n",
    "            vec = []\n",
    "            \n",
    "            posCount = 0\n",
    "            negCount = 0\n",
    "            \n",
    "            wordList = bag.split(' ')\n",
    "            for word in wordList:\n",
    "                \n",
    "                if word in postivePrunals:\n",
    "                    posCount += 1\n",
    "                if word in negtivePrunals:\n",
    "                    negCount += 1\n",
    "#             if posCount != 0 and negCount != 0:\n",
    "#                 print(negCount, posCount)\n",
    "            if posCount + negCount == 0:\n",
    "                self.vec.append([0.5, 0.5])\n",
    "            else:\n",
    "                self.vec.append([posCount/(posCount + negCount), negCount/(posCount + negCount)])\n",
    "        self.vec = np.array(self.vec)\n",
    "        return self.vec"
   ]
  },
  {
   "cell_type": "code",
   "execution_count": 136,
   "metadata": {},
   "outputs": [],
   "source": [
    "negPosThirdPersonX = negPosThirdPerson().transform(corpus)\n",
    "negPosThirdPersonX_test = negPosThirdPerson().transform(corpus_test)"
   ]
  },
  {
   "cell_type": "code",
   "execution_count": 137,
   "metadata": {},
   "outputs": [],
   "source": [
    "X_new_np = np.c_[X_d, negPosThirdPersonX]\n",
    "X_test_new_np = np.c_[X_test_d, negPosThirdPersonX_test]"
   ]
  },
  {
   "cell_type": "code",
   "execution_count": 138,
   "metadata": {},
   "outputs": [
    {
     "data": {
      "text/plain": [
       "0.4929142324416616"
      ]
     },
     "execution_count": 138,
     "metadata": {},
     "output_type": "execute_result"
    }
   ],
   "source": [
    "clf.fit(X_new_np,y)\n",
    "y_pred = clf.predict(X_test_new_np)\n",
    "\n",
    "\n",
    "f1_score(y_true, y_pred, average = 'macro')"
   ]
  },
  {
   "cell_type": "markdown",
   "metadata": {},
   "source": [
    "A little bit increase."
   ]
  },
  {
   "cell_type": "code",
   "execution_count": 139,
   "metadata": {},
   "outputs": [],
   "source": [
    "X_new_np = np.c_[X_new_ori, negPosThirdPersonX]\n",
    "X_test_new_np = np.c_[X_test_new_ori, negPosThirdPersonX_test]"
   ]
  },
  {
   "cell_type": "code",
   "execution_count": 140,
   "metadata": {},
   "outputs": [
    {
     "name": "stderr",
     "output_type": "stream",
     "text": [
      "/Users/shirley/anaconda3/lib/python3.7/site-packages/sklearn/svm/base.py:931: ConvergenceWarning: Liblinear failed to converge, increase the number of iterations.\n",
      "  \"the number of iterations.\", ConvergenceWarning)\n"
     ]
    },
    {
     "data": {
      "text/plain": [
       "0.5131237095649117"
      ]
     },
     "execution_count": 140,
     "metadata": {},
     "output_type": "execute_result"
    }
   ],
   "source": [
    "clf.fit(X_new_np,y)\n",
    "y_pred = clf.predict(X_test_new_np)\n",
    "\n",
    "\n",
    "f1_score(y_true, y_pred, average = 'macro')"
   ]
  },
  {
   "cell_type": "markdown",
   "metadata": {},
   "source": [
    "Finally we got 0.513 F1 score after feature enigneering."
   ]
  },
  {
   "cell_type": "code",
   "execution_count": null,
   "metadata": {},
   "outputs": [],
   "source": []
  }
 ],
 "metadata": {
  "kernelspec": {
   "display_name": "Python 3",
   "language": "python",
   "name": "python3"
  },
  "language_info": {
   "codemirror_mode": {
    "name": "ipython",
    "version": 3
   },
   "file_extension": ".py",
   "mimetype": "text/x-python",
   "name": "python",
   "nbconvert_exporter": "python",
   "pygments_lexer": "ipython3",
   "version": "3.7.3"
  }
 },
 "nbformat": 4,
 "nbformat_minor": 2
}
