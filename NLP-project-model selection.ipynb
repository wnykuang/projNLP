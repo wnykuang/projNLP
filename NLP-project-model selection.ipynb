{
 "cells": [
  {
   "cell_type": "code",
   "execution_count": 17,
   "metadata": {},
   "outputs": [],
   "source": [
    "import numpy as np\n",
    "import pandas as pd\n",
    "import matplotlib.pyplot as plt\n",
    "\n",
    "import nltk\n",
    "from sklearn.metrics import f1_score\n",
    "from sklearn.svm import SVC, LinearSVC\n",
    "from sklearn.ensemble import RandomForestClassifier\n",
    "from sklearn.model_selection import train_test_split\n",
    "from sklearn.feature_extraction.text import CountVectorizer\n",
    "from sklearn.decomposition import TruncatedSVD\n",
    "from sklearn.feature_extraction.text import TfidfVectorizer\n",
    "from imblearn.over_sampling import BorderlineSMOTE\n",
    "from sklearn import svm\n",
    "\n",
    "from scipy import stats\n",
    "from sklearn.model_selection import GridSearchCV\n",
    "import seaborn as sns\n",
    "from sklearn.pipeline import Pipeline\n",
    "\n",
    "from collections import Counter\n",
    "from nltk.data import load\n",
    "from collections import deque\n",
    "from sklearn.linear_model import LogisticRegression\n",
    "from sklearn.naive_bayes import GaussianNB\n",
    "from sklearn.neural_network import MLPClassifier\n",
    "\n",
    "%matplotlib inline"
   ]
  },
  {
   "cell_type": "code",
   "execution_count": 2,
   "metadata": {},
   "outputs": [],
   "source": [
    "combined = pd.read_csv('./wordBag.csv', sep = '\\t')\n",
    "data = combined.drop_duplicates(['lyrics'])"
   ]
  },
  {
   "cell_type": "code",
   "execution_count": 3,
   "metadata": {},
   "outputs": [],
   "source": [
    "artist_10 = data.artist.value_counts()[:10]\n",
    "data_10 = data[data.artist.isin(artist_10.index)]\n",
    "train, test = train_test_split(data_10, test_size=0.2, random_state = 124, stratify = data_10.artist)\n",
    "corpus = train['wordBag'].values.astype(str).tolist()\n",
    "corpus_test = test['wordBag'].values.astype(str).tolist()"
   ]
  },
  {
   "cell_type": "code",
   "execution_count": 4,
   "metadata": {},
   "outputs": [],
   "source": [
    "y = train.artist\n",
    "y_true = test['artist']"
   ]
  },
  {
   "cell_type": "code",
   "execution_count": 5,
   "metadata": {},
   "outputs": [],
   "source": [
    "vectorizer_t = TfidfVectorizer(max_features= 3000, ngram_range = (1,1))\n",
    "svd = TruncatedSVD(n_components = 500) "
   ]
  },
  {
   "cell_type": "code",
   "execution_count": 15,
   "metadata": {},
   "outputs": [],
   "source": [
    "vectorizer_t.fit(corpus)\n",
    "X_t = vectorizer_t.transform(corpus)\n",
    "X_test_t = vectorizer_t.transform(corpus_test)\n",
    "svd.fit(X_t)\n",
    "X_d = svd.transform(X_t)\n",
    "X_test_d = svd.transform(X_test_t)"
   ]
  },
  {
   "cell_type": "code",
   "execution_count": 6,
   "metadata": {},
   "outputs": [],
   "source": [
    "class uniqueWordRatioVec(object):\n",
    "    '''\n",
    "    convet bag of words(seperate by ' ') aka the \"wordBag\" column.\n",
    "    to \n",
    "    [number of unique words/length of the lyrics] vec\n",
    "    '''\n",
    "    \n",
    "    def __init__(self):\n",
    "        '''\n",
    "        self.dim: number of length of X, which is number lyrics.\n",
    "        '''\n",
    "        self.dim = 0\n",
    "        self.vec = []\n",
    "        return None\n",
    "    \n",
    "    def fitTransForm(self, X):\n",
    "        \"\"\"\n",
    "        length self.dim, but contains [k_0, k_1, .. ,k_n] for k_i in range(0, 1)\n",
    "        X is the \"wordBag\" column.\n",
    "        \"\"\"\n",
    "        for wordbag in X:\n",
    "            wordsList = wordbag.split(' ')\n",
    "            self.vec.append(len(set(wordsList)) / len(wordsList))\n",
    "        self.lengths = len(X)\n",
    "        return np.array(self.vec)\n",
    "            "
   ]
  },
  {
   "cell_type": "code",
   "execution_count": 7,
   "metadata": {},
   "outputs": [],
   "source": [
    "class styleVector(object):\n",
    "    \"\"\"\n",
    "    feature type: style:\n",
    "    (1)   POS (map to super tag V N ADV)\n",
    "    (2)   Length per line\n",
    "    (3)   *Repetition:\n",
    "    letter level: # of repeated letter >3\n",
    "    word level: count 1 word and 2 words repetition as one feature\n",
    "    \"\"\"\n",
    "    def __init__(self):\n",
    "        self.dim = 0\n",
    "        self.vec = []\n",
    "        self.posTags = ['LS', 'TO', 'VBN', \"''\", 'WP', 'UH', 'VBG', 'JJ', 'VBZ', \\\n",
    "                        '--', 'VBP', 'NN', 'DT', 'PRP', ':', 'WP$', 'NNPS', 'PRP$', 'WDT', '(', ')', '.', ',', '``', '$',\\\n",
    "                        'RB', 'RBR', 'RBS', 'VBD', 'IN', 'FW', 'RP', 'JJR', 'JJS', 'PDT', 'MD', 'VB', 'WRB', 'NNP', 'EX', \\\n",
    "                        'NNS', 'SYM', 'CC', 'CD', 'POS']\n",
    "        return\n",
    "    \n",
    "    def fitTransForm(self, X):\n",
    "        \"\"\"\n",
    "        X is the \"lyrics\" column.\n",
    "        \"\"\"\n",
    "        ct = 0\n",
    "        for lyc in X:\n",
    "            wordBaglyc = nltk.word_tokenize(lyc)\n",
    "            \n",
    "            \n",
    "            posTag = self.generatePosTag(lyc, wordBaglyc)\n",
    "            lengthPerLine = self.generateLenPerLine(lyc, wordBaglyc)\n",
    "            repInfo = self.generateRepeatInfo(lyc, wordBaglyc)\n",
    "            \n",
    "            \n",
    "            vec = posTag + [lengthPerLine] + repInfo\n",
    "            \n",
    "            ct += 1\n",
    "            if ct % 100 == 0:\n",
    "                print(ct, len(X))\n",
    "                \n",
    "            self.vec.append(vec)\n",
    "        return np.array(self.vec)\n",
    "            \n",
    "    \n",
    "    def generatePosTag(self, lyric, wordbaglyric):\n",
    "        \"\"\"\n",
    "        lyric: an item of lyric.\n",
    "        rtype: [count for each type], size is 45.\n",
    "        wordbaglyric: str, word_tokenize version of lyric.\n",
    "        \"\"\"\n",
    "        tagCount = Counter(x[1] for x in nltk.pos_tag(wordbaglyric))\n",
    "        vec = [0] * 45\n",
    "        for idx, tag in enumerate(self.posTags):\n",
    "            if tag in tagCount.keys():\n",
    "                vec[idx] = tagCount[tag]\n",
    "        return vec\n",
    "    \n",
    "    def generateLenPerLine(self, lyric, wordbaglyric):\n",
    "        \"\"\"\n",
    "        lyric: an item of lyric.\n",
    "        rtype: double, (number of word)/(number of \\n)\n",
    "        wordbaglyric: str, word_tokenize version of lyric.\n",
    "        \"\"\"\n",
    "        #wordCount = len(nltk.word_tokenize(lyric))\n",
    "        wordCount = len(wordbaglyric)\n",
    "        LineCount = Counter(lyric)['\\n']\n",
    "        if LineCount == 0:\n",
    "            return wordCount\n",
    "        return wordCount/LineCount\n",
    "    \n",
    "    def generateRepeatInfo(self, lyric, wordbaglyric):\n",
    "        \"\"\"\n",
    "        lyric: an item of lyric.\n",
    "        rtype: [count of reapeat letter > 3, count of repeat word, count of repeat 2-gram], size is 45.\n",
    "        wordbaglyric: str, word_tokenize version of lyric.\n",
    "        \"\"\"\n",
    "        ctRepeatChar = 0\n",
    "        chQue = deque(maxlen = 3)\n",
    "        for ch in lyric:\n",
    "            chQue.append(ch.lower())\n",
    "            if len(chQue) == 3:\n",
    "                if chQue[0] == chQue[1] and chQue[1] == chQue[2]:\n",
    "                    ctRepeatChar += 1\n",
    "        \n",
    "        words = wordbaglyric\n",
    "        \n",
    "        wordQueue = deque(maxlen = 2)\n",
    "        twoGramQueue = deque(maxlen = 4)\n",
    "        \n",
    "        ctRepeatWord = 0\n",
    "        ctRepeatTwoGram = 0\n",
    "        \n",
    "        for w in words:\n",
    "            wordQueue.append(w.lower())\n",
    "            twoGramQueue.append(w.lower())\n",
    "            if len(wordQueue) == 2:\n",
    "                if wordQueue[0] == wordQueue[1]:\n",
    "                    ctRepeatWord += 1\n",
    "            if len(twoGramQueue) == 4:\n",
    "                if twoGramQueue[0] == twoGramQueue[2] and twoGramQueue[1] == twoGramQueue[3]:\n",
    "                    ctRepeatTwoGram += 1\n",
    "        \n",
    "        return [ctRepeatChar, ctRepeatWord, ctRepeatTwoGram]\n",
    "        "
   ]
  },
  {
   "cell_type": "code",
   "execution_count": 8,
   "metadata": {},
   "outputs": [],
   "source": [
    "class orientatedVec(object):\n",
    "    \n",
    "    def __init__(self):\n",
    "        \"\"\"\n",
    "        initial vector.\n",
    "        \"\"\"\n",
    "        self.vec = []\n",
    "        self.dim = None\n",
    "        return None\n",
    "    \n",
    "    def fitTransform(self, X):\n",
    "        \"\"\"\n",
    "        input: X is the 'wordbag' column. (k, ) dimension\n",
    "        output: (k, 3) vec. \n",
    "        \"\"\"\n",
    "        for lyric in X:\n",
    "            lyricwBag = lyric.split(' ')\n",
    "            pastR = self.generatePastVerbRatio(lyricwBag)\n",
    "            selfRefVec = self.generateSelfRefToOthersandToSecond(lyricwBag)\n",
    "            self.vec.append([pastR] + selfRefVec)\n",
    "        self.dim = len(X)\n",
    "        self.vec = np.array(self.vec)\n",
    "        return self.vec\n",
    "        \n",
    "    def generatePastVerbRatio(self, lyricWordBag):\n",
    "        \"\"\"\n",
    "        Past tense ratio: the fraction of past tense verb forms to all verb forms as a feature\n",
    "        input: list of str, list of words in lyric.\n",
    "        rtype: float, ratio, from 0 to 1.\n",
    "        \"\"\"\n",
    "        pTags = nltk.pos_tag(lyricWordBag)\n",
    "        verbCount = Counter(x[1][0] for x in pTags)['V']\n",
    "        pastCount = Counter(x[1] for x in pTags)['VBN']\n",
    "        if verbCount == 0:\n",
    "            return 0\n",
    "        return pastCount/verbCount\n",
    "    def generateSelfRefToOthersandToSecond(self, lyricWordBag):\n",
    "        \"\"\"\n",
    "        Self-reference ratio: # of the first person singular and plural/ 2 and 3 person\n",
    "        input: list of str, word bag of lyric\n",
    "        rtype: [float, float] ratio, range vaires. [one / other, one / second]\n",
    "        \"\"\"\n",
    "        firstPersonSingular = set(['i', 'me', 'my'])\n",
    "        secondPersonSingular = set(['you', 'your'])\n",
    "        thirdPersonSingular = set(['it', 'its', 'he', 'his', 'him', 'she', 'her'])\n",
    "        \n",
    "        firstPersonCount = 0\n",
    "        secondPersonCount = 0\n",
    "        thirdPersonCount = 0\n",
    "        \n",
    "        for word in lyricWordBag:\n",
    "            if word in firstPersonSingular:\n",
    "                firstPersonCount += 1\n",
    "            if word in secondPersonSingular:\n",
    "                secondPersonCount += 1\n",
    "            if word in thirdPersonSingular:\n",
    "                thirdPersonCount += 1\n",
    "        \n",
    "        if secondPersonCount + thirdPersonCount == 0:\n",
    "            return [0, 0]\n",
    "            #if the sum is zero, all of the counts are zeros.\n",
    "        if secondPersonCount == 0 and thirdPersonCount != 0:\n",
    "            return [firstPersonCount/thirdPersonCount, 0]\n",
    "        if thirdPersonCount == 0 and secondPersonCount != 0:\n",
    "            return [0, firstPersonCount/secondPersonCount]\n",
    "        return [firstPersonCount/(secondPersonCount + thirdPersonCount), firstPersonCount/(secondPersonCount)]"
   ]
  },
  {
   "cell_type": "code",
   "execution_count": 9,
   "metadata": {},
   "outputs": [],
   "source": [
    "class negPosThirdPerson(object):\n",
    "    \"\"\"\n",
    "    build a feature with:\n",
    "    [\n",
    "    [# of positive third person purals] / [# of positive third person purals] + [# of negative third person purals],\n",
    "    [# of positive third person purals] / [# of positive third person purals] + [# of negative third person purals]\n",
    "    ],\n",
    "    sum of the vector should be one, if [# of positive third person purals] + [# of negative third person purals] == 0,\n",
    "    will set the vector to [0.5, 0.5]\n",
    "    \"\"\"\n",
    "    \n",
    "    def __init__(self):\n",
    "        \"\"\"\n",
    "        self.dim : number of lyrics, (k, 1) the k.\n",
    "        self.vec : the vec [(0.5, 0.5), (0.2, 0.8) ,..., (...)]\n",
    "        \"\"\"\n",
    "        self.dim = None\n",
    "        self.vec = []\n",
    "    def transform(self, bagsOfWords):\n",
    "        \"\"\"\n",
    "        input: bagsOfWords column\n",
    "        output: np.array of feature vector.\n",
    "        bagsOfWords should be the column of word bags.\n",
    "        \"\"\"\n",
    "        postivePrunals = set(['he', 'him', 'his'])\n",
    "        negtivePrunals = set(['she', 'her'])\n",
    "        \n",
    "        \n",
    "        for bag in bagsOfWords:\n",
    "            \"\"\"\n",
    "            vec: [(positive ratio, negetive ratio)]\n",
    "            \"\"\"\n",
    "            vec = []\n",
    "            \n",
    "            posCount = 0\n",
    "            negCount = 0\n",
    "            \n",
    "            wordList = bag.split(' ')\n",
    "            for word in wordList:\n",
    "                \n",
    "                if word in postivePrunals:\n",
    "                    posCount += 1\n",
    "                if word in negtivePrunals:\n",
    "                    negCount += 1\n",
    "#             if posCount != 0 and negCount != 0:\n",
    "#                 print(negCount, posCount)\n",
    "            if posCount + negCount == 0:\n",
    "                self.vec.append([0.5, 0.5])\n",
    "            else:\n",
    "                self.vec.append([posCount/(posCount + negCount), negCount/(posCount + negCount)])\n",
    "        self.vec = np.array(self.vec)\n",
    "        return self.vec"
   ]
  },
  {
   "cell_type": "code",
   "execution_count": 10,
   "metadata": {},
   "outputs": [],
   "source": [
    "uniqueWordvecX = uniqueWordRatioVec().fitTransForm(corpus)\n",
    "uniqueWordvecX_test = uniqueWordRatioVec().fitTransForm(corpus_test)"
   ]
  },
  {
   "cell_type": "code",
   "execution_count": 11,
   "metadata": {},
   "outputs": [
    {
     "name": "stdout",
     "output_type": "stream",
     "text": [
      "100 4334\n",
      "200 4334\n",
      "300 4334\n",
      "400 4334\n",
      "500 4334\n",
      "600 4334\n",
      "700 4334\n",
      "800 4334\n",
      "900 4334\n",
      "1000 4334\n",
      "1100 4334\n",
      "1200 4334\n",
      "1300 4334\n",
      "1400 4334\n",
      "1500 4334\n",
      "1600 4334\n",
      "1700 4334\n",
      "1800 4334\n",
      "1900 4334\n",
      "2000 4334\n",
      "2100 4334\n",
      "2200 4334\n",
      "2300 4334\n",
      "2400 4334\n",
      "2500 4334\n",
      "2600 4334\n",
      "2700 4334\n",
      "2800 4334\n",
      "2900 4334\n",
      "3000 4334\n",
      "3100 4334\n",
      "3200 4334\n",
      "3300 4334\n",
      "3400 4334\n",
      "3500 4334\n",
      "3600 4334\n",
      "3700 4334\n",
      "3800 4334\n",
      "3900 4334\n",
      "4000 4334\n",
      "4100 4334\n",
      "4200 4334\n",
      "4300 4334\n",
      "100 1084\n",
      "200 1084\n",
      "300 1084\n",
      "400 1084\n",
      "500 1084\n",
      "600 1084\n",
      "700 1084\n",
      "800 1084\n",
      "900 1084\n",
      "1000 1084\n"
     ]
    }
   ],
   "source": [
    "Xtest = test['lyrics'].values.astype(str).tolist()\n",
    "Xtrain = train['lyrics'].values.astype(str).tolist()\n",
    "Xstyle = styleVector().fitTransForm(Xtrain)\n",
    "X_teststyle = styleVector().fitTransForm(Xtest)"
   ]
  },
  {
   "cell_type": "code",
   "execution_count": 12,
   "metadata": {},
   "outputs": [],
   "source": [
    "X_ori = orientatedVec().fitTransform(corpus)\n",
    "X_test_ori = orientatedVec().fitTransform(corpus_test)"
   ]
  },
  {
   "cell_type": "code",
   "execution_count": 13,
   "metadata": {},
   "outputs": [],
   "source": [
    "negPosThirdPersonX = negPosThirdPerson().transform(corpus)\n",
    "negPosThirdPersonX_test = negPosThirdPerson().transform(corpus_test)"
   ]
  },
  {
   "cell_type": "code",
   "execution_count": 16,
   "metadata": {},
   "outputs": [],
   "source": [
    "X_full = np.c_[X_d,uniqueWordvecX,Xstyle[:,45:],X_ori[:,1:],negPosThirdPersonX]\n",
    "X_test_full = np.c_[X_test_d,uniqueWordvecX_test, X_teststyle[:,45:], X_test_ori[:,1:],negPosThirdPersonX_test]"
   ]
  },
  {
   "cell_type": "markdown",
   "metadata": {},
   "source": [
    "## SVM grid search"
   ]
  },
  {
   "cell_type": "code",
   "execution_count": 59,
   "metadata": {},
   "outputs": [
    {
     "name": "stdout",
     "output_type": "stream",
     "text": [
      "Fitting 5 folds for each of 18 candidates, totalling 90 fits\n"
     ]
    },
    {
     "name": "stderr",
     "output_type": "stream",
     "text": [
      "[Parallel(n_jobs=-1)]: Using backend LokyBackend with 8 concurrent workers.\n",
      "[Parallel(n_jobs=-1)]: Done  34 tasks      | elapsed:  2.7min\n",
      "[Parallel(n_jobs=-1)]: Done  90 out of  90 | elapsed: 10.8min finished\n"
     ]
    },
    {
     "data": {
      "text/plain": [
       "GridSearchCV(cv=5, error_score='raise-deprecating',\n",
       "       estimator=Pipeline(memory=None,\n",
       "     steps=[('model', SVC(C=1.0, cache_size=200, class_weight=None, coef0=0.0,\n",
       "  decision_function_shape='ovr', degree=3, gamma='scale', kernel='rbf',\n",
       "  max_iter=-1, probability=False, random_state=None, shrinking=True,\n",
       "  tol=0.001, verbose=False))]),\n",
       "       fit_params=None, iid='warn', n_jobs=-1,\n",
       "       param_grid={'model__kernel': ('linear', 'rbf', 'poly'), 'model__C': [0.1, 1, 10, 20, 50, 100]},\n",
       "       pre_dispatch='2*n_jobs', refit=True, return_train_score='warn',\n",
       "       scoring=None, verbose=True)"
      ]
     },
     "execution_count": 59,
     "metadata": {},
     "output_type": "execute_result"
    }
   ],
   "source": [
    "pipeline_c = Pipeline([\n",
    "    ('model', svm.SVC(gamma=\"scale\"))\n",
    "])\n",
    "parameters_svc = {'model__kernel':('linear', 'rbf','poly'), 'model__C':[0.1,1, 10,20,50,100]}\n",
    "\n",
    "clf_gs = GridSearchCV(pipeline_c, parameters_svc, cv=5, n_jobs=-1, verbose=True)\n",
    "clf_gs.fit(X_full,y)"
   ]
  },
  {
   "cell_type": "code",
   "execution_count": 60,
   "metadata": {},
   "outputs": [
    {
     "name": "stderr",
     "output_type": "stream",
     "text": [
      "/Users/shirley/anaconda3/lib/python3.7/site-packages/sklearn/utils/deprecation.py:125: FutureWarning: You are accessing a training score ('split0_train_score'), which will not be available by default any more in 0.21. If you need training scores, please set return_train_score=True\n",
      "  warnings.warn(*warn_args, **warn_kwargs)\n",
      "/Users/shirley/anaconda3/lib/python3.7/site-packages/sklearn/utils/deprecation.py:125: FutureWarning: You are accessing a training score ('split1_train_score'), which will not be available by default any more in 0.21. If you need training scores, please set return_train_score=True\n",
      "  warnings.warn(*warn_args, **warn_kwargs)\n",
      "/Users/shirley/anaconda3/lib/python3.7/site-packages/sklearn/utils/deprecation.py:125: FutureWarning: You are accessing a training score ('split2_train_score'), which will not be available by default any more in 0.21. If you need training scores, please set return_train_score=True\n",
      "  warnings.warn(*warn_args, **warn_kwargs)\n",
      "/Users/shirley/anaconda3/lib/python3.7/site-packages/sklearn/utils/deprecation.py:125: FutureWarning: You are accessing a training score ('split3_train_score'), which will not be available by default any more in 0.21. If you need training scores, please set return_train_score=True\n",
      "  warnings.warn(*warn_args, **warn_kwargs)\n",
      "/Users/shirley/anaconda3/lib/python3.7/site-packages/sklearn/utils/deprecation.py:125: FutureWarning: You are accessing a training score ('split4_train_score'), which will not be available by default any more in 0.21. If you need training scores, please set return_train_score=True\n",
      "  warnings.warn(*warn_args, **warn_kwargs)\n",
      "/Users/shirley/anaconda3/lib/python3.7/site-packages/sklearn/utils/deprecation.py:125: FutureWarning: You are accessing a training score ('mean_train_score'), which will not be available by default any more in 0.21. If you need training scores, please set return_train_score=True\n",
      "  warnings.warn(*warn_args, **warn_kwargs)\n",
      "/Users/shirley/anaconda3/lib/python3.7/site-packages/sklearn/utils/deprecation.py:125: FutureWarning: You are accessing a training score ('std_train_score'), which will not be available by default any more in 0.21. If you need training scores, please set return_train_score=True\n",
      "  warnings.warn(*warn_args, **warn_kwargs)\n"
     ]
    }
   ],
   "source": [
    "results_m = pd.melt(\n",
    "pd.DataFrame(clf_gs.cv_results_),\n",
    "id_vars=['param_model__kernel', 'param_model__C'],\n",
    "value_vars=[\n",
    "'mean_test_score'\n",
    "],\n",
    "value_name='f1_scores'\n",
    ")"
   ]
  },
  {
   "cell_type": "code",
   "execution_count": 61,
   "metadata": {},
   "outputs": [],
   "source": [
    "def plot_results(results, title,xlable,ylable, huelable):\n",
    "    f, ax = plt.subplots(figsize=(8, 5))\n",
    "    sns.lineplot(ax=ax,\n",
    "    x= xlable,\n",
    "    y= ylable,\n",
    "    hue = huelable,\n",
    "    data=results)\n",
    "    ax.set_xlabel(xlable)\n",
    "    ax.set_ylabel('mean of prediction accuracy')\n",
    "    ax.set_title(title)\n",
    "    ax.legend(loc='lower right')"
   ]
  },
  {
   "cell_type": "code",
   "execution_count": 62,
   "metadata": {},
   "outputs": [
    {
     "data": {
      "image/png": "[encoded data removed]",
      "text/plain": [
       "<Figure size 576x360 with 1 Axes>"
      ]
     },
     "metadata": {
      "needs_background": "light"
     },
     "output_type": "display_data"
    }
   ],
   "source": [
    "plot_results(results_m,'grid search for kernels and penalty', 'param_model__C','f1_scores','param_model__kernel')"
   ]
  },
  {
   "cell_type": "code",
   "execution_count": 25,
   "metadata": {},
   "outputs": [
    {
     "data": {
      "text/plain": [
       "{'model__C': 1, 'model__kernel': 'linear'}"
      ]
     },
     "execution_count": 25,
     "metadata": {},
     "output_type": "execute_result"
    }
   ],
   "source": [
    "clf_gs.best_params_"
   ]
  },
  {
   "cell_type": "code",
   "execution_count": 26,
   "metadata": {},
   "outputs": [
    {
     "data": {
      "text/plain": [
       "0.5209967697277342"
      ]
     },
     "execution_count": 26,
     "metadata": {},
     "output_type": "execute_result"
    }
   ],
   "source": [
    "clf_gs.best_score_"
   ]
  },
  {
   "cell_type": "markdown",
   "metadata": {},
   "source": [
    "The best parameters for SVM is linear kernel with penalty  = 1"
   ]
  },
  {
   "cell_type": "code",
   "execution_count": 55,
   "metadata": {},
   "outputs": [
    {
     "data": {
      "text/plain": [
       "0.5141352647530635"
      ]
     },
     "execution_count": 55,
     "metadata": {},
     "output_type": "execute_result"
    }
   ],
   "source": [
    "clf_svm_best = svm.SVC(gamma=\"scale\", C = 1, kernel = 'linear')\n",
    "clf_svm_best.fit(X_full,y)\n",
    "y_pred = clf_svm_best.predict(X_test_full)\n",
    "y_true = test.artist\n",
    "f1_score(y_true, y_pred, average = 'macro')"
   ]
  },
  {
   "cell_type": "markdown",
   "metadata": {},
   "source": [
    "## random forest"
   ]
  },
  {
   "cell_type": "code",
   "execution_count": 27,
   "metadata": {},
   "outputs": [
    {
     "name": "stdout",
     "output_type": "stream",
     "text": [
      "Fitting 5 folds for each of 9 candidates, totalling 45 fits\n"
     ]
    },
    {
     "name": "stderr",
     "output_type": "stream",
     "text": [
      "[Parallel(n_jobs=-1)]: Using backend LokyBackend with 8 concurrent workers.\n",
      "[Parallel(n_jobs=-1)]: Done  45 out of  45 | elapsed:  3.2min finished\n"
     ]
    },
    {
     "data": {
      "text/plain": [
       "GridSearchCV(cv=5, error_score='raise-deprecating',\n",
       "       estimator=Pipeline(memory=None,\n",
       "     steps=[('model', RandomForestClassifier(bootstrap=True, class_weight=None, criterion='gini',\n",
       "            max_depth=None, max_features='auto', max_leaf_nodes=None,\n",
       "            min_impurity_decrease=0.0, min_impurity_split=None,\n",
       "            min_samples_leaf=1, min_samples_split=2,\n",
       "            min_weight_fraction_leaf=0.0, n_estimators='warn', n_jobs=None,\n",
       "            oob_score=False, random_state=None, verbose=0,\n",
       "            warm_start=False))]),\n",
       "       fit_params=None, iid='warn', n_jobs=-1,\n",
       "       param_grid={'model__n_estimators': [10, 100, 1000], 'model__max_depth': [10, 100, 1000]},\n",
       "       pre_dispatch='2*n_jobs', refit=True, return_train_score='warn',\n",
       "       scoring=None, verbose=True)"
      ]
     },
     "execution_count": 27,
     "metadata": {},
     "output_type": "execute_result"
    }
   ],
   "source": [
    "pipeline_rf = Pipeline([\n",
    "    ('model', RandomForestClassifier())\n",
    "])\n",
    "parameters_rf = {'model__n_estimators':[10,100,1000], 'model__max_depth':[10,100,1000]}\n",
    "\n",
    "clf_rf = GridSearchCV(pipeline_rf, parameters_rf, cv=5, n_jobs=-1, verbose=True)\n",
    "clf_rf.fit(X_full,y)"
   ]
  },
  {
   "cell_type": "code",
   "execution_count": 28,
   "metadata": {},
   "outputs": [
    {
     "name": "stderr",
     "output_type": "stream",
     "text": [
      "/Users/shirley/anaconda3/lib/python3.7/site-packages/sklearn/utils/deprecation.py:125: FutureWarning: You are accessing a training score ('split0_train_score'), which will not be available by default any more in 0.21. If you need training scores, please set return_train_score=True\n",
      "  warnings.warn(*warn_args, **warn_kwargs)\n",
      "/Users/shirley/anaconda3/lib/python3.7/site-packages/sklearn/utils/deprecation.py:125: FutureWarning: You are accessing a training score ('split1_train_score'), which will not be available by default any more in 0.21. If you need training scores, please set return_train_score=True\n",
      "  warnings.warn(*warn_args, **warn_kwargs)\n",
      "/Users/shirley/anaconda3/lib/python3.7/site-packages/sklearn/utils/deprecation.py:125: FutureWarning: You are accessing a training score ('split2_train_score'), which will not be available by default any more in 0.21. If you need training scores, please set return_train_score=True\n",
      "  warnings.warn(*warn_args, **warn_kwargs)\n",
      "/Users/shirley/anaconda3/lib/python3.7/site-packages/sklearn/utils/deprecation.py:125: FutureWarning: You are accessing a training score ('split3_train_score'), which will not be available by default any more in 0.21. If you need training scores, please set return_train_score=True\n",
      "  warnings.warn(*warn_args, **warn_kwargs)\n",
      "/Users/shirley/anaconda3/lib/python3.7/site-packages/sklearn/utils/deprecation.py:125: FutureWarning: You are accessing a training score ('split4_train_score'), which will not be available by default any more in 0.21. If you need training scores, please set return_train_score=True\n",
      "  warnings.warn(*warn_args, **warn_kwargs)\n",
      "/Users/shirley/anaconda3/lib/python3.7/site-packages/sklearn/utils/deprecation.py:125: FutureWarning: You are accessing a training score ('mean_train_score'), which will not be available by default any more in 0.21. If you need training scores, please set return_train_score=True\n",
      "  warnings.warn(*warn_args, **warn_kwargs)\n",
      "/Users/shirley/anaconda3/lib/python3.7/site-packages/sklearn/utils/deprecation.py:125: FutureWarning: You are accessing a training score ('std_train_score'), which will not be available by default any more in 0.21. If you need training scores, please set return_train_score=True\n",
      "  warnings.warn(*warn_args, **warn_kwargs)\n"
     ]
    }
   ],
   "source": [
    "results_rf = pd.melt(\n",
    "pd.DataFrame(clf_rf.cv_results_),\n",
    "id_vars=['param_model__n_estimators', 'param_model__max_depth'],\n",
    "value_vars=[\n",
    "'mean_test_score'\n",
    "],\n",
    "value_name='f1_scores'\n",
    ")"
   ]
  },
  {
   "cell_type": "code",
   "execution_count": 29,
   "metadata": {},
   "outputs": [],
   "source": [
    "results_rf.param_model__max_depth = pd.to_numeric(results_rf.param_model__max_depth)"
   ]
  },
  {
   "cell_type": "code",
   "execution_count": 30,
   "metadata": {},
   "outputs": [
    {
     "data": {
      "text/plain": [
       "<matplotlib.axes._subplots.AxesSubplot at 0x1a2d299470>"
      ]
     },
     "execution_count": 30,
     "metadata": {},
     "output_type": "execute_result"
    },
    {
     "data": {
      "image/png": "[encoded data removed]",
      "text/plain": [
       "<Figure size 576x432 with 1 Axes>"
      ]
     },
     "metadata": {},
     "output_type": "display_data"
    }
   ],
   "source": [
    "sns.set(style=\"whitegrid\")\n",
    "\n",
    "fig, ax = plt.subplots(figsize=(8, 6))\n",
    "\n",
    "sns.lineplot(\n",
    "    x='param_model__n_estimators',\n",
    "    y='f1_scores',\n",
    "    hue='param_model__max_depth',\n",
    "    data=results_rf,\n",
    "    legend=\"full\",\n",
    "    ax=ax\n",
    ")"
   ]
  },
  {
   "cell_type": "code",
   "execution_count": 31,
   "metadata": {},
   "outputs": [
    {
     "data": {
      "text/plain": [
       "{'model__max_depth': 1000, 'model__n_estimators': 1000}"
      ]
     },
     "execution_count": 31,
     "metadata": {},
     "output_type": "execute_result"
    }
   ],
   "source": [
    "clf_rf.best_params_"
   ]
  },
  {
   "cell_type": "code",
   "execution_count": 32,
   "metadata": {},
   "outputs": [
    {
     "data": {
      "text/plain": [
       "0.4462390401476696"
      ]
     },
     "execution_count": 32,
     "metadata": {},
     "output_type": "execute_result"
    }
   ],
   "source": [
    "clf_rf.best_score_"
   ]
  },
  {
   "cell_type": "markdown",
   "metadata": {},
   "source": [
    "The random forest could not beat SVM"
   ]
  },
  {
   "cell_type": "code",
   "execution_count": 55,
   "metadata": {},
   "outputs": [],
   "source": [
    "clf_nb = GaussianNB()\n",
    "clf_nb.fit(X_full,y)\n",
    "y_pred = clf_nb.predict(X_test_full)"
   ]
  },
  {
   "cell_type": "code",
   "execution_count": 56,
   "metadata": {},
   "outputs": [
    {
     "data": {
      "text/plain": [
       "0.2994013947945832"
      ]
     },
     "execution_count": 56,
     "metadata": {},
     "output_type": "execute_result"
    }
   ],
   "source": [
    "y_true = test.artist\n",
    "f1_score(y_true, y_pred, average = 'macro')"
   ]
  },
  {
   "cell_type": "markdown",
   "metadata": {},
   "source": [
    "## Logistic regression"
   ]
  },
  {
   "cell_type": "code",
   "execution_count": 16,
   "metadata": {},
   "outputs": [
    {
     "name": "stdout",
     "output_type": "stream",
     "text": [
      "Fitting 5 folds for each of 4 candidates, totalling 20 fits\n"
     ]
    },
    {
     "name": "stderr",
     "output_type": "stream",
     "text": [
      "[Parallel(n_jobs=-1)]: Using backend LokyBackend with 8 concurrent workers.\n",
      "[Parallel(n_jobs=-1)]: Done  20 out of  20 | elapsed:   40.6s finished\n",
      "/Users/shirley/anaconda3/lib/python3.7/site-packages/sklearn/linear_model/logistic.py:433: FutureWarning: Default solver will be changed to 'lbfgs' in 0.22. Specify a solver to silence this warning.\n",
      "  FutureWarning)\n",
      "/Users/shirley/anaconda3/lib/python3.7/site-packages/sklearn/linear_model/logistic.py:460: FutureWarning: Default multi_class will be changed to 'auto' in 0.22. Specify the multi_class option to silence this warning.\n",
      "  \"this warning.\", FutureWarning)\n"
     ]
    },
    {
     "data": {
      "text/plain": [
       "GridSearchCV(cv=5, error_score='raise-deprecating',\n",
       "       estimator=Pipeline(memory=None,\n",
       "     steps=[('model', LogisticRegression(C=1.0, class_weight=None, dual=False, fit_intercept=True,\n",
       "          intercept_scaling=1, max_iter=100, multi_class='warn',\n",
       "          n_jobs=None, penalty='l2', random_state=None, solver='warn',\n",
       "          tol=0.0001, verbose=0, warm_start=False))]),\n",
       "       fit_params=None, iid='warn', n_jobs=-1,\n",
       "       param_grid={'model__class_weight': (None, 'balanced'), 'model__penalty': ('l1', 'l2')},\n",
       "       pre_dispatch='2*n_jobs', refit=True, return_train_score='warn',\n",
       "       scoring=None, verbose=True)"
      ]
     },
     "execution_count": 16,
     "metadata": {},
     "output_type": "execute_result"
    }
   ],
   "source": [
    "pipeline_c = Pipeline([\n",
    "    ('model', LogisticRegression())\n",
    "])\n",
    "parameters_svc = {'model__class_weight':(None, 'balanced'), 'model__penalty':('l1','l2')}\n",
    "\n",
    "clf_log = GridSearchCV(pipeline_c, parameters_svc, cv=5, n_jobs=-1, verbose=True)\n",
    "clf_log.fit(X_full,y)"
   ]
  },
  {
   "cell_type": "code",
   "execution_count": 36,
   "metadata": {},
   "outputs": [],
   "source": [
    "results_m = pd.melt(\n",
    "pd.DataFrame(clf_log.cv_results_),\n",
    "id_vars=['param_model__class_weight', 'param_model__penalty'],\n",
    "value_vars=[\n",
    "'mean_test_score'\n",
    "],\n",
    "value_name='f1_scores'\n",
    ")"
   ]
  },
  {
   "cell_type": "code",
   "execution_count": 46,
   "metadata": {},
   "outputs": [],
   "source": [
    "# change the dtype of the class weight column to category\n",
    "results_m.param_model__class_weight = results_m.param_model__class_weight.astype('category')\n",
    "results_m.param_model__class_weight = results_m.param_model__class_weight.cat.add_categories(\"None\").fillna(\"None\")"
   ]
  },
  {
   "cell_type": "code",
   "execution_count": 48,
   "metadata": {},
   "outputs": [
    {
     "data": {
      "text/plain": [
       "<matplotlib.axes._subplots.AxesSubplot at 0x1a249a4e10>"
      ]
     },
     "execution_count": 48,
     "metadata": {},
     "output_type": "execute_result"
    },
    {
     "data": {
      "image/png": "[encoded data removed]",
      "text/plain": [
       "<Figure size 576x432 with 1 Axes>"
      ]
     },
     "metadata": {},
     "output_type": "display_data"
    }
   ],
   "source": [
    "sns.set(style=\"whitegrid\")\n",
    "\n",
    "fig, ax = plt.subplots(figsize=(8, 6))\n",
    "\n",
    "sns.pointplot(\n",
    "    x='param_model__class_weight',\n",
    "    y='f1_scores',\n",
    "    hue='param_model__penalty',\n",
    "    data=results_m,\n",
    "    ax=ax\n",
    ")"
   ]
  },
  {
   "cell_type": "code",
   "execution_count": null,
   "metadata": {},
   "outputs": [],
   "source": []
  },
  {
   "cell_type": "code",
   "execution_count": 53,
   "metadata": {
    "scrolled": true
   },
   "outputs": [
    {
     "name": "stderr",
     "output_type": "stream",
     "text": [
      "/Users/shirley/anaconda3/lib/python3.7/site-packages/sklearn/linear_model/logistic.py:433: FutureWarning: Default solver will be changed to 'lbfgs' in 0.22. Specify a solver to silence this warning.\n",
      "  FutureWarning)\n",
      "/Users/shirley/anaconda3/lib/python3.7/site-packages/sklearn/linear_model/logistic.py:460: FutureWarning: Default multi_class will be changed to 'auto' in 0.22. Specify the multi_class option to silence this warning.\n",
      "  \"this warning.\", FutureWarning)\n"
     ]
    }
   ],
   "source": [
    "clf_log = LogisticRegression(random_state=0, class_weight = None)\n",
    "clf_log.fit(X_full,y)\n",
    "y_pred = clf_log.predict(X_test_full)\n"
   ]
  },
  {
   "cell_type": "code",
   "execution_count": 54,
   "metadata": {},
   "outputs": [
    {
     "data": {
      "text/plain": [
       "0.5148591461604834"
      ]
     },
     "execution_count": 54,
     "metadata": {},
     "output_type": "execute_result"
    }
   ],
   "source": [
    "y_true = test.artist\n",
    "f1_score(y_true, y_pred, average = 'macro')"
   ]
  },
  {
   "cell_type": "markdown",
   "metadata": {},
   "source": [
    "## neural network"
   ]
  },
  {
   "cell_type": "code",
   "execution_count": 32,
   "metadata": {},
   "outputs": [
    {
     "name": "stdout",
     "output_type": "stream",
     "text": [
      "Fitting 5 folds for each of 18 candidates, totalling 90 fits\n"
     ]
    },
    {
     "name": "stderr",
     "output_type": "stream",
     "text": [
      "[Parallel(n_jobs=-1)]: Using backend LokyBackend with 8 concurrent workers.\n",
      "[Parallel(n_jobs=-1)]: Done  34 tasks      | elapsed:  4.3min\n",
      "[Parallel(n_jobs=-1)]: Done  90 out of  90 | elapsed: 153.2min finished\n"
     ]
    },
    {
     "data": {
      "text/plain": [
       "GridSearchCV(cv=5, error_score='raise-deprecating',\n",
       "       estimator=Pipeline(memory=None,\n",
       "     steps=[('model', MLPClassifier(activation='relu', alpha=0.0001, batch_size='auto', beta_1=0.9,\n",
       "       beta_2=0.999, early_stopping=False, epsilon=1e-08,\n",
       "       hidden_layer_sizes=(100,), learning_rate='constant',\n",
       "       learning_rate_init=0.001, max_iter=200, mom...rue, solver='lbfgs', tol=0.0001,\n",
       "       validation_fraction=0.1, verbose=False, warm_start=False))]),\n",
       "       fit_params=None, iid='warn', n_jobs=-1,\n",
       "       param_grid={'model__activation': ('logistic', 'tanh', 'relu'), 'model__hidden_layer_sizes': (100, 200, 300, 500, 1000, 5000)},\n",
       "       pre_dispatch='2*n_jobs', refit=True, return_train_score='warn',\n",
       "       scoring=None, verbose=True)"
      ]
     },
     "execution_count": 32,
     "metadata": {},
     "output_type": "execute_result"
    }
   ],
   "source": [
    "pipeline_c = Pipeline([\n",
    "    ('model', MLPClassifier(solver='lbfgs', random_state=1))\n",
    "])\n",
    "parameters_svc = {'model__activation':('logistic', 'tanh', 'relu'), 'model__hidden_layer_sizes':(100,200,300,500,1000,5000)}\n",
    "\n",
    "clf_nn = GridSearchCV(pipeline_c, parameters_svc, cv=5, n_jobs=-1, verbose=True)\n",
    "clf_nn.fit(X_full,y)"
   ]
  },
  {
   "cell_type": "code",
   "execution_count": 33,
   "metadata": {},
   "outputs": [
    {
     "name": "stderr",
     "output_type": "stream",
     "text": [
      "/Users/shirley/anaconda3/lib/python3.7/site-packages/sklearn/utils/deprecation.py:125: FutureWarning: You are accessing a training score ('split0_train_score'), which will not be available by default any more in 0.21. If you need training scores, please set return_train_score=True\n",
      "  warnings.warn(*warn_args, **warn_kwargs)\n",
      "/Users/shirley/anaconda3/lib/python3.7/site-packages/sklearn/utils/deprecation.py:125: FutureWarning: You are accessing a training score ('split1_train_score'), which will not be available by default any more in 0.21. If you need training scores, please set return_train_score=True\n",
      "  warnings.warn(*warn_args, **warn_kwargs)\n",
      "/Users/shirley/anaconda3/lib/python3.7/site-packages/sklearn/utils/deprecation.py:125: FutureWarning: You are accessing a training score ('split2_train_score'), which will not be available by default any more in 0.21. If you need training scores, please set return_train_score=True\n",
      "  warnings.warn(*warn_args, **warn_kwargs)\n",
      "/Users/shirley/anaconda3/lib/python3.7/site-packages/sklearn/utils/deprecation.py:125: FutureWarning: You are accessing a training score ('split3_train_score'), which will not be available by default any more in 0.21. If you need training scores, please set return_train_score=True\n",
      "  warnings.warn(*warn_args, **warn_kwargs)\n",
      "/Users/shirley/anaconda3/lib/python3.7/site-packages/sklearn/utils/deprecation.py:125: FutureWarning: You are accessing a training score ('split4_train_score'), which will not be available by default any more in 0.21. If you need training scores, please set return_train_score=True\n",
      "  warnings.warn(*warn_args, **warn_kwargs)\n",
      "/Users/shirley/anaconda3/lib/python3.7/site-packages/sklearn/utils/deprecation.py:125: FutureWarning: You are accessing a training score ('mean_train_score'), which will not be available by default any more in 0.21. If you need training scores, please set return_train_score=True\n",
      "  warnings.warn(*warn_args, **warn_kwargs)\n",
      "/Users/shirley/anaconda3/lib/python3.7/site-packages/sklearn/utils/deprecation.py:125: FutureWarning: You are accessing a training score ('std_train_score'), which will not be available by default any more in 0.21. If you need training scores, please set return_train_score=True\n",
      "  warnings.warn(*warn_args, **warn_kwargs)\n"
     ]
    }
   ],
   "source": [
    "results_n = pd.melt(\n",
    "pd.DataFrame(clf_nn.cv_results_),\n",
    "id_vars=['param_model__activation', 'param_model__hidden_layer_sizes'],\n",
    "value_vars=[\n",
    "'mean_test_score'\n",
    "],\n",
    "value_name='f1_scores'\n",
    ")"
   ]
  },
  {
   "cell_type": "code",
   "execution_count": 34,
   "metadata": {},
   "outputs": [
    {
     "data": {
      "text/html": [
       "<div>\n",
       "<style scoped>\n",
       "    .dataframe tbody tr th:only-of-type {\n",
       "        vertical-align: middle;\n",
       "    }\n",
       "\n",
       "    .dataframe tbody tr th {\n",
       "        vertical-align: top;\n",
       "    }\n",
       "\n",
       "    .dataframe thead th {\n",
       "        text-align: right;\n",
       "    }\n",
       "</style>\n",
       "<table border=\"1\" class=\"dataframe\">\n",
       "  <thead>\n",
       "    <tr style=\"text-align: right;\">\n",
       "      <th></th>\n",
       "      <th>param_model__activation</th>\n",
       "      <th>param_model__hidden_layer_sizes</th>\n",
       "      <th>variable</th>\n",
       "      <th>f1_scores</th>\n",
       "    </tr>\n",
       "  </thead>\n",
       "  <tbody>\n",
       "    <tr>\n",
       "      <th>0</th>\n",
       "      <td>logistic</td>\n",
       "      <td>100</td>\n",
       "      <td>mean_test_score</td>\n",
       "      <td>0.424319</td>\n",
       "    </tr>\n",
       "    <tr>\n",
       "      <th>1</th>\n",
       "      <td>logistic</td>\n",
       "      <td>200</td>\n",
       "      <td>mean_test_score</td>\n",
       "      <td>0.411168</td>\n",
       "    </tr>\n",
       "    <tr>\n",
       "      <th>2</th>\n",
       "      <td>logistic</td>\n",
       "      <td>300</td>\n",
       "      <td>mean_test_score</td>\n",
       "      <td>0.405630</td>\n",
       "    </tr>\n",
       "    <tr>\n",
       "      <th>3</th>\n",
       "      <td>logistic</td>\n",
       "      <td>500</td>\n",
       "      <td>mean_test_score</td>\n",
       "      <td>0.392709</td>\n",
       "    </tr>\n",
       "    <tr>\n",
       "      <th>4</th>\n",
       "      <td>logistic</td>\n",
       "      <td>1000</td>\n",
       "      <td>mean_test_score</td>\n",
       "      <td>0.379326</td>\n",
       "    </tr>\n",
       "    <tr>\n",
       "      <th>5</th>\n",
       "      <td>logistic</td>\n",
       "      <td>5000</td>\n",
       "      <td>mean_test_score</td>\n",
       "      <td>0.290725</td>\n",
       "    </tr>\n",
       "    <tr>\n",
       "      <th>6</th>\n",
       "      <td>tanh</td>\n",
       "      <td>100</td>\n",
       "      <td>mean_test_score</td>\n",
       "      <td>0.451777</td>\n",
       "    </tr>\n",
       "    <tr>\n",
       "      <th>7</th>\n",
       "      <td>tanh</td>\n",
       "      <td>200</td>\n",
       "      <td>mean_test_score</td>\n",
       "      <td>0.444855</td>\n",
       "    </tr>\n",
       "    <tr>\n",
       "      <th>8</th>\n",
       "      <td>tanh</td>\n",
       "      <td>300</td>\n",
       "      <td>mean_test_score</td>\n",
       "      <td>0.445085</td>\n",
       "    </tr>\n",
       "    <tr>\n",
       "      <th>9</th>\n",
       "      <td>tanh</td>\n",
       "      <td>500</td>\n",
       "      <td>mean_test_score</td>\n",
       "      <td>0.451084</td>\n",
       "    </tr>\n",
       "    <tr>\n",
       "      <th>10</th>\n",
       "      <td>tanh</td>\n",
       "      <td>1000</td>\n",
       "      <td>mean_test_score</td>\n",
       "      <td>0.462390</td>\n",
       "    </tr>\n",
       "    <tr>\n",
       "      <th>11</th>\n",
       "      <td>tanh</td>\n",
       "      <td>5000</td>\n",
       "      <td>mean_test_score</td>\n",
       "      <td>0.482234</td>\n",
       "    </tr>\n",
       "    <tr>\n",
       "      <th>12</th>\n",
       "      <td>relu</td>\n",
       "      <td>100</td>\n",
       "      <td>mean_test_score</td>\n",
       "      <td>0.420166</td>\n",
       "    </tr>\n",
       "    <tr>\n",
       "      <th>13</th>\n",
       "      <td>relu</td>\n",
       "      <td>200</td>\n",
       "      <td>mean_test_score</td>\n",
       "      <td>0.424550</td>\n",
       "    </tr>\n",
       "    <tr>\n",
       "      <th>14</th>\n",
       "      <td>relu</td>\n",
       "      <td>300</td>\n",
       "      <td>mean_test_score</td>\n",
       "      <td>0.423858</td>\n",
       "    </tr>\n",
       "    <tr>\n",
       "      <th>15</th>\n",
       "      <td>relu</td>\n",
       "      <td>500</td>\n",
       "      <td>mean_test_score</td>\n",
       "      <td>0.424550</td>\n",
       "    </tr>\n",
       "    <tr>\n",
       "      <th>16</th>\n",
       "      <td>relu</td>\n",
       "      <td>1000</td>\n",
       "      <td>mean_test_score</td>\n",
       "      <td>0.429857</td>\n",
       "    </tr>\n",
       "    <tr>\n",
       "      <th>17</th>\n",
       "      <td>relu</td>\n",
       "      <td>5000</td>\n",
       "      <td>mean_test_score</td>\n",
       "      <td>0.445547</td>\n",
       "    </tr>\n",
       "  </tbody>\n",
       "</table>\n",
       "</div>"
      ],
      "text/plain": [
       "   param_model__activation param_model__hidden_layer_sizes         variable  \\\n",
       "0                 logistic                             100  mean_test_score   \n",
       "1                 logistic                             200  mean_test_score   \n",
       "2                 logistic                             300  mean_test_score   \n",
       "3                 logistic                             500  mean_test_score   \n",
       "4                 logistic                            1000  mean_test_score   \n",
       "5                 logistic                            5000  mean_test_score   \n",
       "6                     tanh                             100  mean_test_score   \n",
       "7                     tanh                             200  mean_test_score   \n",
       "8                     tanh                             300  mean_test_score   \n",
       "9                     tanh                             500  mean_test_score   \n",
       "10                    tanh                            1000  mean_test_score   \n",
       "11                    tanh                            5000  mean_test_score   \n",
       "12                    relu                             100  mean_test_score   \n",
       "13                    relu                             200  mean_test_score   \n",
       "14                    relu                             300  mean_test_score   \n",
       "15                    relu                             500  mean_test_score   \n",
       "16                    relu                            1000  mean_test_score   \n",
       "17                    relu                            5000  mean_test_score   \n",
       "\n",
       "    f1_scores  \n",
       "0    0.424319  \n",
       "1    0.411168  \n",
       "2    0.405630  \n",
       "3    0.392709  \n",
       "4    0.379326  \n",
       "5    0.290725  \n",
       "6    0.451777  \n",
       "7    0.444855  \n",
       "8    0.445085  \n",
       "9    0.451084  \n",
       "10   0.462390  \n",
       "11   0.482234  \n",
       "12   0.420166  \n",
       "13   0.424550  \n",
       "14   0.423858  \n",
       "15   0.424550  \n",
       "16   0.429857  \n",
       "17   0.445547  "
      ]
     },
     "execution_count": 34,
     "metadata": {},
     "output_type": "execute_result"
    }
   ],
   "source": [
    "results_n"
   ]
  },
  {
   "cell_type": "code",
   "execution_count": 35,
   "metadata": {},
   "outputs": [
    {
     "data": {
      "text/plain": [
       "<matplotlib.axes._subplots.AxesSubplot at 0x1a2c259cf8>"
      ]
     },
     "execution_count": 35,
     "metadata": {},
     "output_type": "execute_result"
    },
    {
     "data": {
      "image/png": "[encoded data removed]",
      "text/plain": [
       "<Figure size 576x432 with 1 Axes>"
      ]
     },
     "metadata": {},
     "output_type": "display_data"
    }
   ],
   "source": [
    "sns.set(style=\"whitegrid\")\n",
    "\n",
    "fig, ax = plt.subplots(figsize=(8, 6))\n",
    "\n",
    "sns.lineplot(\n",
    "    x='param_model__hidden_layer_sizes',\n",
    "    y='f1_scores',\n",
    "    hue='param_model__activation',\n",
    "    data=results_n,\n",
    "    ax=ax\n",
    ")"
   ]
  },
  {
   "cell_type": "code",
   "execution_count": 36,
   "metadata": {},
   "outputs": [
    {
     "data": {
      "text/plain": [
       "{'model__activation': 'tanh', 'model__hidden_layer_sizes': 5000}"
      ]
     },
     "execution_count": 36,
     "metadata": {},
     "output_type": "execute_result"
    }
   ],
   "source": [
    "clf_nn.best_params_"
   ]
  },
  {
   "cell_type": "code",
   "execution_count": 37,
   "metadata": {},
   "outputs": [
    {
     "data": {
      "text/plain": [
       "0.48223350253807107"
      ]
     },
     "execution_count": 37,
     "metadata": {},
     "output_type": "execute_result"
    }
   ],
   "source": [
    "clf_nn.best_score_"
   ]
  },
  {
   "cell_type": "markdown",
   "metadata": {},
   "source": [
    "Still can not beat the Logistic regression."
   ]
  },
  {
   "cell_type": "code",
   "execution_count": null,
   "metadata": {},
   "outputs": [],
   "source": []
  }
 ],
 "metadata": {
  "kernelspec": {
   "display_name": "Python 3",
   "language": "python",
   "name": "python3"
  },
  "language_info": {
   "codemirror_mode": {
    "name": "ipython",
    "version": 3
   },
   "file_extension": ".py",
   "mimetype": "text/x-python",
   "name": "python",
   "nbconvert_exporter": "python",
   "pygments_lexer": "ipython3",
   "version": "3.7.3"
  }
 },
 "nbformat": 4,
 "nbformat_minor": 2
}
